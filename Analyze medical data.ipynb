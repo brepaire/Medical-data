{
 "cells": [
  {
   "cell_type": "markdown",
   "metadata": {
    "id": "Fz5EhGc3mK8s"
   },
   "source": [
    "<table>\n",
    "<tr>\n",
    "    <td width=10%><img src=\"./img/logo_lri.jpg\"></td>\n",
    "    <td width=30%><img src=\"./img/medi-chal_logo.png\" height=15%></img></td>\n",
    "</tr>\n",
    "\n",
    "</table>"
   ]
  },
  {
   "cell_type": "markdown",
   "metadata": {
    "id": "M_IaD0oXmK8y"
   },
   "source": [
    "<br/><br/><div id=\"top\"></div>\n",
    "\n",
    "<center><a style=\"font-size: 40pt; font-weight: bold\">\n",
    "    Être ou ne pas être ?\n",
    "</a></center>\n",
    "<br/>\n",
    "<center><a style=\"font-size: 22pt; font-weight: bold\">\n",
    "    Un problème de classification binaire sur des données médicales artificelles\n",
    "<br/>\n",
    "\n",
    "---"
   ]
  },
  {
   "cell_type": "markdown",
   "metadata": {
    "id": "A31-XJ4FmK80"
   },
   "source": [
    "# Membres du groupe\n",
    "\n",
    "**Minimum 2, Maximum 3**"
   ]
  },
  {
   "cell_type": "markdown",
   "metadata": {
    "id": "AF6HTEWXmK82"
   },
   "source": [
    "<span style=\"color:red\">\n",
    "    Répondre ci-dessous\n",
    "</span>"
   ]
  },
  {
   "cell_type": "markdown",
   "metadata": {
    "id": "ZvLBYpd9mK83"
   },
   "source": [
    "* Derathe, Pierre\n",
    "* Repaire, Bastien\n",
    "* Rohault de Fleury, Jules"
   ]
  },
  {
   "cell_type": "markdown",
   "metadata": {
    "id": "aIMhSACZmK84"
   },
   "source": [
    "# Présentation du challenge\n",
    "\n",
    "## La question principale de ce challenge est : \n",
    "\n",
    "* Comment prédire la survie d'un·e patient·e compte tenu de son dossier médical ? \n",
    "    \n",
    "* Plus précisément, vous devrez prédire la survie des patient·e·s pendant leur séjour à l'hôpital\n",
    " \n",
    "Chaque jour, le personnel soignant collecte de nombreuses informations sur les patient·e·s en posant des questions et en utilisant des outils de mesure (stéthoscope, analyse de sang, capteurs, etc.). Ces données sont très utiles pour surveiller l'état de santé, diagnostiquer et choisir les traitements.\n",
    "\n",
    "Elles peuvent également être utilisées pour l'analyse statistique prédictive."
   ]
  },
  {
   "cell_type": "markdown",
   "metadata": {
    "id": "8kJjfxAUmK86"
   },
   "source": [
    "## Données\n",
    "\n",
    "L'ensemble de données contient des informations sur 80'000 patient·e·s, représentés par des variables (descripteurs) catégorielles, binaires et numériques. Ces variables sont, par exemple, l'âge, le sexe, l'origine ethnique, l'état matrimonial, ainsi que des données médicales telles que la tension artérielle ou le taux de glucose. Il y a un total de 342 variables.\n",
    "\n",
    "La classe (étiquette ou label) à prédire est une variable binaire indiquant si la·le patient·e est décédé·e ou non pendant son séjour à l'hôpital. Heureusement, la plupart survivent :\n",
    "\n",
    "![](img/tobe.png)"
   ]
  },
  {
   "cell_type": "markdown",
   "metadata": {
    "id": "yj0L7qdhmK87"
   },
   "source": [
    "## Tâche\n",
    "\n",
    "La tâche consiste à créer un modèle capable d'apprendre à partir des données et de faire des prédictions (apprentissage supervisé). Chaque instance (patient·e) possède une variable indiquant si elle·il est décédé·e ou non pendant son séjour à l'hôpital.\n",
    "\n",
    "Références et crédit :\n",
    "\n",
    "Isabelle Guyon, Kristin Bennett, Andrew Yale, Adrien Pavao, Thomas Gerspacher"
   ]
  },
  {
   "cell_type": "markdown",
   "metadata": {
    "id": "TqXyKkqUmK88"
   },
   "source": [
    "## Instructions\n",
    "\n",
    "Le but de ce TP est de travailler sur un challenge de prédiction de la mortalité.\n",
    "\n",
    "Le lien vers le challenge :\n",
    "https://codalab.lisn.upsaclay.fr/competitions/3739\n",
    "\n",
    "* **Étape 1 :** S'enregistrer sur https://codalab.lisn.upsaclay.fr\n",
    "\n",
    "* **Étape 2:** Téléchargez le jeu de données à partir de la [page](https://codalab.lisn.upsaclay.fr/competitions/3739#participate-get_starting_kit) \"Participate > Files > Public Data\".\n",
    "\n",
    "* **Étape 3:** Parcourez ce notebook. Vous devrez lire, exécuter, **coder vos propres méthodes** et **répondre aux questions**. Utilisez la cellule ***code*** pour le codage et la cellule ***markdown*** pour répondre aux questions."
   ]
  },
  {
   "cell_type": "markdown",
   "metadata": {
    "id": "VVuOFPXAmK8-"
   },
   "source": [
    "## Évaluation du projet\n",
    "\n",
    "* **4 points** pour la partie compréhension et analyse exploratoire\n",
    "    \n",
    "* **4 points** pour un code propre et bien documenté\n",
    "\n",
    "* **4 points** pour la qualité du modèle (sélection du modèle, sélection des hyperparamètres)\n",
    "\n",
    "* **4 points** pour une bonne évaluation des performances du modèle\n",
    "\n",
    "* **4 points** pour la qualité de la présentation orale \n",
    "\n",
    "* **1 point bonus** pour l'équipe gagnante du challenge"
   ]
  },
  {
   "cell_type": "markdown",
   "metadata": {
    "id": "0UdOQU-ymK8_"
   },
   "source": [
    "### FAQ\n",
    "\n",
    "* Soumettre uniquement le notebook sur eCampus\n",
    "\n",
    "* La partie texte (explications, résultats, problèmes, sans le code) ne doit pas dépasser 3 pages A4 11pt (< 1500 mots)"
   ]
  },
  {
   "cell_type": "markdown",
   "metadata": {
    "id": "585hkDACmK9A"
   },
   "source": [
    "# Challenge"
   ]
  },
  {
   "cell_type": "markdown",
   "metadata": {
    "id": "mY-3iemWmK9B"
   },
   "source": [
    "Module requis : `imblearn` (à installer avec `conda`)\n",
    "\n",
    "`conda install -c conda-forge imbalanced-learn`"
   ]
  },
  {
   "cell_type": "code",
   "execution_count": 1,
   "metadata": {
    "id": "9m3wKTkCmK9C"
   },
   "outputs": [],
   "source": [
    "from datetime import datetime\n",
    "from pathlib import Path\n",
    "\n",
    "import imblearn\n",
    "import matplotlib.pyplot as plt\n",
    "import numpy as np\n",
    "import pandas as pd\n",
    "import seaborn as sns\n",
    "from imblearn.over_sampling import RandomOverSampler\n",
    "from sklearn.neighbors import KNeighborsClassifier\n",
    "from sklearn import (\n",
    "    decomposition,\n",
    "    discriminant_analysis,\n",
    "    ensemble,\n",
    "    linear_model,\n",
    "    metrics,\n",
    "    model_selection,\n",
    "    naive_bayes,\n",
    "    pipeline,\n",
    "    preprocessing,\n",
    "    svm,\n",
    ")"
   ]
  },
  {
   "cell_type": "code",
   "execution_count": 2,
   "metadata": {
    "id": "KGLS9jFRmK9F"
   },
   "outputs": [],
   "source": [
    "%reload_ext autoreload\n",
    "%autoreload 2\n",
    "\n",
    "%config InlineBackend.figure_format=\"retina\"  # For high DPI display\n",
    "\n",
    "# Set precision for pd and np (np: suppress also sci notation)\n",
    "np.set_printoptions(precision=3, suppress=True)\n",
    "pd.options.display.float_format = \"{:,.3g}\".format"
   ]
  },
  {
   "cell_type": "markdown",
   "metadata": {
    "id": "jy49VMp-mK9G"
   },
   "source": [
    "## 1. Compréhension du problème"
   ]
  },
  {
   "cell_type": "markdown",
   "metadata": {
    "id": "bdOTVht5mK9H"
   },
   "source": [
    "### Expliquez brièvement la tâche avec vos mots"
   ]
  },
  {
   "cell_type": "markdown",
   "metadata": {
    "id": "vxlCrwFJmK9I"
   },
   "source": [
    "<span style=\"color:red\">\n",
    "    Répondre ci-dessous\n",
    "</span>"
   ]
  },
  {
   "cell_type": "markdown",
   "metadata": {
    "id": "kqmUlE0GmK9J"
   },
   "source": [
    "Traiter les données pour les rendre utilisables, réduire le nombre d'attributs et trouver la bonne méthode pour classifier.\n"
   ]
  },
  {
   "cell_type": "markdown",
   "metadata": {
    "id": "H3y7ACeQmK9K"
   },
   "source": [
    "### Métrique utilisée\n",
    "\n",
    "Pourquoi la métrique utilisée ici est la [`sklearn.metrics.balanced_accuracy_score`](https://scikit-learn.org/stable/modules/generated/sklearn.metrics.balanced_accuracy_score.html) plutôt que simplement l'[`sklearn.metrics.accuracy_score`](https://scikit-learn.org/stable/modules/generated/sklearn.metrics.accuracy_score.html) ?"
   ]
  },
  {
   "cell_type": "markdown",
   "metadata": {
    "id": "fTuB9SuymK9L"
   },
   "source": [
    "<span style=\"color:red\">\n",
    "    Répondre ci-dessous\n",
    "</span>"
   ]
  },
  {
   "cell_type": "markdown",
   "metadata": {
    "id": "uvw6OqqrmK9L"
   },
   "source": [
    "Le taux de précision habituel n'est pas représentatif car il n'y a que 3% de vrais, et tiendrait plus de la sensibilité uniquement. Le taux de précision équilibré permettrait une meilleure prise en compte de la spécificité."
   ]
  },
  {
   "cell_type": "markdown",
   "metadata": {
    "id": "kSiqK1eBmK9M"
   },
   "source": [
    "## 2. Chargement des données"
   ]
  },
  {
   "cell_type": "code",
   "execution_count": 3,
   "metadata": {
    "id": "bOpAvyuymK9N"
   },
   "outputs": [],
   "source": [
    "#DATA = Path(\"~/ownCloud/EDU/Courses/L2-ISD2/Project/public_data\").expanduser()\n",
    "DATA = Path().cwd()\n",
    "# DATA = Path(\"public_data\")\n",
    "\n",
    "PRED_PATH = Path(\"Submissions\")\n",
    "\n",
    "DROP_VARS = [\"ADMITTIME\", \"DISCHTIME\", \"SUBJECT_ID\", \"HADM_ID\"]\n",
    "\n",
    "assert DATA.is_dir()"
   ]
  },
  {
   "cell_type": "code",
   "execution_count": 4,
   "metadata": {
    "id": "bBRFZjCSmK9O"
   },
   "outputs": [],
   "source": [
    "features = pd.read_csv(\n",
    "    DATA / \"mimic_synthetic_feat.name\", header=None\n",
    ").values.flatten()\n",
    "\n",
    "labels = pd.read_csv(\n",
    "    DATA / \"mimic_synthetic_label.name\", header=None\n",
    ").values.flatten()\n",
    "\n",
    "x_df = pd.read_csv(\n",
    "    DATA / \"mimic_synthetic_train.data\",\n",
    "    header=None,\n",
    "    names=features,\n",
    "    sep=\" \",\n",
    ")\n",
    "\n",
    "# Remove variables that are not relevant\n",
    "x_df.drop(columns=DROP_VARS, inplace=True)\n",
    "\n",
    "ys = pd.Series(\n",
    "    pd.read_csv(\n",
    "        DATA / \"mimic_synthetic_train.solution\",\n",
    "        header=None,\n",
    "        names=labels,\n",
    "        sep=\" \",\n",
    "    ).values.flatten()\n",
    ")"
   ]
  },
  {
   "cell_type": "markdown",
   "metadata": {
    "id": "6BQPC1cRmK9P"
   },
   "source": [
    "C'est **l'ensemble d'entrainement**. Cela signifie que vous avez accès aux étiquettes et que vous pouvez l'utiliser comme vous le souhaitez pour préparer votre modèle.\n",
    "\n",
    "Plus tard, vous ferez en sorte que votre modèle tire des prédictions de **l'ensemble de test** afin de les téléverser sur Codalab et d'obtenir un score sur des données non vues lors de l'entrainement des modèles."
   ]
  },
  {
   "cell_type": "code",
   "execution_count": 5,
   "metadata": {
    "id": "VmikvOYBmK9P"
   },
   "outputs": [],
   "source": [
    "# Load test set\n",
    "x_test_df = pd.read_csv(\n",
    "    DATA / \"mimic_synthetic_test.data\",\n",
    "    header=None,\n",
    "    names=features,\n",
    "    sep=\" \",\n",
    ")\n",
    "\n",
    "# Remove variables that are not relevant\n",
    "x_test_df.drop(columns=DROP_VARS, inplace=True)"
   ]
  },
  {
   "cell_type": "markdown",
   "metadata": {
    "id": "ZpqbiSDhmK9Q"
   },
   "source": [
    "## 3. Analyse exploratoire"
   ]
  },
  {
   "cell_type": "markdown",
   "metadata": {
    "id": "FRsFqnLkmK9R"
   },
   "source": [
    "#### Types des variables"
   ]
  },
  {
   "cell_type": "code",
   "execution_count": 6,
   "metadata": {
    "id": "lwSJOaIGmK9S"
   },
   "outputs": [
    {
     "data": {
      "text/plain": [
       "Numerical      226\n",
       "Binary         107\n",
       "Categorical      8\n",
       "Name: 0, dtype: int64"
      ]
     },
     "execution_count": 6,
     "metadata": {},
     "output_type": "execute_result"
    }
   ],
   "source": [
    "types = pd.read_csv(DATA / \"mimic_synthetic_feat.type\", header=None).set_index(\n",
    "    features\n",
    ")[0]\n",
    "\n",
    "types.value_counts() #Cheching the amount of types"
   ]
  },
  {
   "cell_type": "markdown",
   "metadata": {
    "id": "uG_Bc0DImK9S"
   },
   "source": [
    "#### Distribution de la variable cible"
   ]
  },
  {
   "cell_type": "code",
   "execution_count": 7,
   "metadata": {
    "id": "tBJGO8trmK9T"
   },
   "outputs": [
    {
     "data": {
      "text/plain": [
       "count   8e+04\n",
       "mean    0.035\n",
       "std     0.184\n",
       "min         0\n",
       "25%         0\n",
       "50%         0\n",
       "75%         0\n",
       "max         1\n",
       "dtype: float64"
      ]
     },
     "execution_count": 7,
     "metadata": {},
     "output_type": "execute_result"
    }
   ],
   "source": [
    "ys.describe()"
   ]
  },
  {
   "cell_type": "code",
   "execution_count": 8,
   "metadata": {
    "id": "WTmYQNMvmK9U"
   },
   "outputs": [
    {
     "data": {
      "image/png": "[encoded data removed]",
      "text/plain": [
       "<Figure size 432x288 with 1 Axes>"
      ]
     },
     "metadata": {
      "image/png": {
       "height": 249,
       "width": 388
      },
      "needs_background": "light"
     },
     "output_type": "display_data"
    }
   ],
   "source": [
    "ys.hist(bins=2, grid=False, align=\"left\")\n",
    "plt.xticks([0, 0.5], [\"Survived\", \"Died\"])\n",
    "# plt.savefig(\"img/tobe.png\", dpi=300)\n",
    "plt.show()"
   ]
  },
  {
   "cell_type": "markdown",
   "metadata": {
    "id": "TFbiREZfmK9U"
   },
   "source": [
    "### Code : Produire les graphiques suivants\n",
    "\n",
    "* Diagrammes à barres de certaines variables catégorielles (par exemple \"LANGUAGE\", \"MARITAL_STATUS\")\n",
    "\n",
    "* Montrez la corrélation entre certaines variables et la variable cible y\n",
    "\n",
    "* Un autre graphique ou toute analyse exploratoire à laquelle vous pouvez penser"
   ]
  },
  {
   "cell_type": "markdown",
   "metadata": {
    "id": "8URXfF-1mK9V"
   },
   "source": [
    "Exemple"
   ]
  },
  {
   "cell_type": "code",
   "execution_count": 9,
   "metadata": {
    "id": "9JVhjIJamK9W"
   },
   "outputs": [
    {
     "data": {
      "image/png": "[encoded data removed]",
      "text/plain": [
       "<Figure size 432x288 with 1 Axes>"
      ]
     },
     "metadata": {
      "image/png": {
       "height": 302,
       "width": 397
      },
      "needs_background": "light"
     },
     "output_type": "display_data"
    }
   ],
   "source": [
    "x_marital_cnts = x_df[\"MARITAL_STATUS\"].value_counts()\n",
    "x_marital_cnts.plot.bar(rot=30)\n",
    "plt.show()"
   ]
  },
  {
   "cell_type": "markdown",
   "metadata": {
    "id": "7IfnwNyhmK9X"
   },
   "source": [
    "<span style=\"color:red\">\n",
    "    Répondre ci-dessous\n",
    "</span>"
   ]
  },
  {
   "cell_type": "code",
   "execution_count": 10,
   "metadata": {
    "id": "1opaOTvAmK9Y"
   },
   "outputs": [
    {
     "data": {
      "image/png": "[encoded data removed]",
      "text/plain": [
       "<Figure size 432x288 with 1 Axes>"
      ]
     },
     "metadata": {
      "image/png": {
       "height": 278,
       "width": 388
      },
      "needs_background": "light"
     },
     "output_type": "display_data"
    }
   ],
   "source": [
    "x_insurance_cnts = x_df[\"INSURANCE\"].value_counts()\n",
    "x_insurance_cnts.plot.bar(rot=30)\n",
    "plt.show()"
   ]
  },
  {
   "cell_type": "markdown",
   "metadata": {
    "id": "mOkoyHp8mK9Z"
   },
   "source": [
    "#### Corrélations"
   ]
  },
  {
   "cell_type": "code",
   "execution_count": 11,
   "metadata": {
    "id": "xiKCPOmQmK9Z"
   },
   "outputs": [
    {
     "data": {
      "text/plain": [
       "count        157\n",
       "mean      0.0191\n",
       "std       0.0217\n",
       "min     0.000343\n",
       "25%       0.0033\n",
       "50%      0.00943\n",
       "75%       0.0285\n",
       "max       0.0958\n",
       "dtype: float64"
      ]
     },
     "execution_count": 11,
     "metadata": {},
     "output_type": "execute_result"
    }
   ],
   "source": [
    "#Correlate each feature with mortality rate, remove NaNs, and take the absolute values\n",
    "corr = x_df.corrwith(ys).dropna().abs()\n",
    "corr.describe()"
   ]
  },
  {
   "cell_type": "code",
   "execution_count": 12,
   "metadata": {
    "id": "bMZ6bMlJmK9a"
   },
   "outputs": [
    {
     "data": {
      "text/plain": [
       "<matplotlib.axes._subplots.AxesSubplot at 0x147426c9b50>"
      ]
     },
     "execution_count": 12,
     "metadata": {},
     "output_type": "execute_result"
    },
    {
     "data": {
      "image/png": "[encoded data removed]",
      "text/plain": [
       "<Figure size 432x288 with 1 Axes>"
      ]
     },
     "metadata": {
      "image/png": {
       "height": 248,
       "width": 486
      },
      "needs_background": "light"
     },
     "output_type": "display_data"
    }
   ],
   "source": [
    "corr.sort_values().tail(10).plot.barh()"
   ]
  },
  {
   "cell_type": "markdown",
   "metadata": {
    "id": "9_ikgLVwmK9b"
   },
   "source": [
    "Astuce :\n",
    "\n",
    "* Utilisez un graphique avec des barres horizontales `barh` (pour visualiser les valeurs positives et négatives)"
   ]
  },
  {
   "cell_type": "markdown",
   "metadata": {
    "id": "z013JKkRmK9b"
   },
   "source": [
    "<span style=\"color:red\">\n",
    "    Utiliser des cellules markdown pour ajouter des commentaires\n",
    "</span>"
   ]
  },
  {
   "cell_type": "markdown",
   "metadata": {
    "id": "KMT-QINNmK9c"
   },
   "source": [
    "L'histogramme représente les 10 features ayant la corrélation la plus élevée en valeur absolue avec le taux de mortalité. \n",
    "\n",
    "On remarque que tout les corrélation sont inférieures à 0.1 et que les corrélations sont plus positives que négatives. En effet, malgré les valeurs absolue, ces 10 mesures sont positives à la base."
   ]
  },
  {
   "cell_type": "markdown",
   "metadata": {
    "id": "1N6DXT5TmK9d"
   },
   "source": [
    "#### Autres graphiques ou résultats d'une analyse exploratoire"
   ]
  },
  {
   "cell_type": "code",
   "execution_count": 13,
   "metadata": {},
   "outputs": [
    {
     "data": {
      "text/plain": [
       "count        157\n",
       "mean       0.049\n",
       "std       0.0555\n",
       "min     0.000528\n",
       "25%      0.00914\n",
       "50%       0.0236\n",
       "75%       0.0733\n",
       "max        0.243\n",
       "dtype: float64"
      ]
     },
     "execution_count": 13,
     "metadata": {},
     "output_type": "execute_result"
    }
   ],
   "source": [
    "ros = RandomOverSampler() # over-sample the minority class (the dead)\n",
    "x_resampled, y_resampled = ros.fit_resample(x_df,ys)\n",
    "\n",
    "#Correlate each feature with mortality rate, remove NaNs, and take the absolute values\n",
    "corr_rs = x_resampled.corrwith(y_resampled).dropna().abs()\n",
    "corr_rs.describe()"
   ]
  },
  {
   "cell_type": "code",
   "execution_count": 14,
   "metadata": {},
   "outputs": [
    {
     "data": {
      "text/plain": [
       "<matplotlib.axes._subplots.AxesSubplot at 0x147436438b0>"
      ]
     },
     "execution_count": 14,
     "metadata": {},
     "output_type": "execute_result"
    },
    {
     "data": {
      "image/png": "[encoded data removed]",
      "text/plain": [
       "<Figure size 432x288 with 1 Axes>"
      ]
     },
     "metadata": {
      "image/png": {
       "height": 248,
       "width": 481
      },
      "needs_background": "light"
     },
     "output_type": "display_data"
    }
   ],
   "source": [
    "corr_rs.sort_values().tail(10).plot.barh()"
   ]
  },
  {
   "cell_type": "markdown",
   "metadata": {
    "id": "7SYPSUeLmK9e"
   },
   "source": [
    "<span style=\"color:red\">\n",
    "    Utiliser des cellules markdown pour ajouter des commentaires\n",
    "</span>"
   ]
  },
  {
   "cell_type": "markdown",
   "metadata": {
    "id": "ms28Ni4pmK9e"
   },
   "source": [
    "En faisant en sorte que il y est autant de patient mort que vivant, nous pouvons constater que les features les plus corrélées ne changent pas mais que le taux de corrélation est plus de deux fois supérieur, ce qui confirme le décès et ces features."
   ]
  },
  {
   "cell_type": "markdown",
   "metadata": {
    "id": "k8i7dbncmK9f"
   },
   "source": [
    "## 4. Pre-traitement"
   ]
  },
  {
   "cell_type": "markdown",
   "metadata": {
    "id": "O4821BI-mK9f"
   },
   "source": [
    "### Code : Traitement du problème des valeurs manquantes (ou non définies, NAN)"
   ]
  },
  {
   "cell_type": "markdown",
   "metadata": {
    "id": "Un5xCmTImK9g"
   },
   "source": [
    "La solution la plus simple est d'éliminer l'ensemble des colonnes où il y a des données manquantes, mais on perd de l'information. \n",
    "\n",
    "Vu le faible nombre d'instances concernées (maximum 6 : voir ci-dessous) il parait plus pertinent de supprimer les lignes (instances) plutôt que les colonnes entières (variables).\n",
    "\n",
    "La solution que nous choisissons ici est une troisième, celle de remplacer les valeurs non définies par la valeur la plus probable de la variable. Comme ces valeurs manquantes concernent exclusivement des variables catégorielles et binaires, la valeur la plus probable est le *mode* (voir cours : `part-5-slides.pdf`)."
   ]
  },
  {
   "cell_type": "code",
   "execution_count": 16,
   "metadata": {
    "id": "_vCpN0QgmK9h"
   },
   "outputs": [
    {
     "name": "stdout",
     "output_type": "stream",
     "text": [
      "(79999, 337) (20001, 337)\n"
     ]
    }
   ],
   "source": [
    "print(x_df.shape, x_test_df.shape)"
   ]
  },
  {
   "cell_type": "code",
   "execution_count": 17,
   "metadata": {
    "id": "qvdQfbtCmK9h"
   },
   "outputs": [
    {
     "data": {
      "text/plain": [
       "LANGUAGE                              1\n",
       "MARITAL_STATUS                        1\n",
       "ICU                                   2\n",
       "ECodes:Adverseeffectsofmedicalcare    6\n",
       "Otnutritdx                            2\n",
       "Othnervdx                             1\n",
       "dtype: int64"
      ]
     },
     "execution_count": 17,
     "metadata": {},
     "output_type": "execute_result"
    }
   ],
   "source": [
    "x_nans = x_df.isna().sum()\n",
    "x_miss = x_nans[x_nans > 0]\n",
    "x_miss"
   ]
  },
  {
   "cell_type": "code",
   "execution_count": 18,
   "metadata": {
    "id": "cduo5AZ1mK9i"
   },
   "outputs": [
    {
     "data": {
      "text/plain": [
       "LANGUAGE                              2\n",
       "ECodes:Adverseeffectsofmedicalcare    3\n",
       "dtype: int64"
      ]
     },
     "execution_count": 18,
     "metadata": {},
     "output_type": "execute_result"
    }
   ],
   "source": [
    "x_test_nans = x_test_df.isna().sum()\n",
    "x_test_miss = x_test_nans[x_test_nans > 0]\n",
    "x_test_miss"
   ]
  },
  {
   "cell_type": "code",
   "execution_count": 19,
   "metadata": {
    "id": "RFf1HC3BmK9j"
   },
   "outputs": [
    {
     "data": {
      "text/html": [
       "<div>\n",
       "<style scoped>\n",
       "    .dataframe tbody tr th:only-of-type {\n",
       "        vertical-align: middle;\n",
       "    }\n",
       "\n",
       "    .dataframe tbody tr th {\n",
       "        vertical-align: top;\n",
       "    }\n",
       "\n",
       "    .dataframe thead th {\n",
       "        text-align: right;\n",
       "    }\n",
       "</style>\n",
       "<table border=\"1\" class=\"dataframe\">\n",
       "  <thead>\n",
       "    <tr style=\"text-align: right;\">\n",
       "      <th></th>\n",
       "      <th>LANGUAGE</th>\n",
       "      <th>MARITAL_STATUS</th>\n",
       "      <th>ICU</th>\n",
       "      <th>ECodes:Adverseeffectsofmedicalcare</th>\n",
       "      <th>Otnutritdx</th>\n",
       "      <th>Othnervdx</th>\n",
       "    </tr>\n",
       "  </thead>\n",
       "  <tbody>\n",
       "    <tr>\n",
       "      <th>2251</th>\n",
       "      <td>ENGL</td>\n",
       "      <td>MARRIED</td>\n",
       "      <td>MICU</td>\n",
       "      <td>nan</td>\n",
       "      <td>0</td>\n",
       "      <td>0</td>\n",
       "    </tr>\n",
       "    <tr>\n",
       "      <th>9983</th>\n",
       "      <td>ENGL</td>\n",
       "      <td>MARRIED</td>\n",
       "      <td>MICU</td>\n",
       "      <td>0</td>\n",
       "      <td>nan</td>\n",
       "      <td>0</td>\n",
       "    </tr>\n",
       "    <tr>\n",
       "      <th>10549</th>\n",
       "      <td>ENGL</td>\n",
       "      <td>MARRIED</td>\n",
       "      <td>MICU</td>\n",
       "      <td>0</td>\n",
       "      <td>nan</td>\n",
       "      <td>0</td>\n",
       "    </tr>\n",
       "    <tr>\n",
       "      <th>10831</th>\n",
       "      <td>ENGL</td>\n",
       "      <td>MARRIED</td>\n",
       "      <td>MICU</td>\n",
       "      <td>nan</td>\n",
       "      <td>1</td>\n",
       "      <td>0</td>\n",
       "    </tr>\n",
       "    <tr>\n",
       "      <th>17012</th>\n",
       "      <td>ENGL</td>\n",
       "      <td>MARRIED</td>\n",
       "      <td>CSRU</td>\n",
       "      <td>nan</td>\n",
       "      <td>0</td>\n",
       "      <td>1</td>\n",
       "    </tr>\n",
       "    <tr>\n",
       "      <th>23088</th>\n",
       "      <td>ENGL</td>\n",
       "      <td>MARRIED</td>\n",
       "      <td>NaN</td>\n",
       "      <td>0</td>\n",
       "      <td>0</td>\n",
       "      <td>0</td>\n",
       "    </tr>\n",
       "    <tr>\n",
       "      <th>32539</th>\n",
       "      <td>ENGL</td>\n",
       "      <td>NaN</td>\n",
       "      <td>CSRU</td>\n",
       "      <td>0</td>\n",
       "      <td>0</td>\n",
       "      <td>0</td>\n",
       "    </tr>\n",
       "    <tr>\n",
       "      <th>42762</th>\n",
       "      <td>ENGL</td>\n",
       "      <td>SINGLE</td>\n",
       "      <td>TSICU</td>\n",
       "      <td>nan</td>\n",
       "      <td>0</td>\n",
       "      <td>0</td>\n",
       "    </tr>\n",
       "    <tr>\n",
       "      <th>53191</th>\n",
       "      <td>NaN</td>\n",
       "      <td>MARRIED</td>\n",
       "      <td>MICU</td>\n",
       "      <td>0</td>\n",
       "      <td>0</td>\n",
       "      <td>0</td>\n",
       "    </tr>\n",
       "    <tr>\n",
       "      <th>53390</th>\n",
       "      <td>CAPE</td>\n",
       "      <td>MARRIED</td>\n",
       "      <td>NaN</td>\n",
       "      <td>0</td>\n",
       "      <td>0</td>\n",
       "      <td>0</td>\n",
       "    </tr>\n",
       "    <tr>\n",
       "      <th>56772</th>\n",
       "      <td>ENGL</td>\n",
       "      <td>MARRIED</td>\n",
       "      <td>CSRU</td>\n",
       "      <td>nan</td>\n",
       "      <td>0</td>\n",
       "      <td>0</td>\n",
       "    </tr>\n",
       "    <tr>\n",
       "      <th>61852</th>\n",
       "      <td>ENGL</td>\n",
       "      <td>MARRIED</td>\n",
       "      <td>SICU</td>\n",
       "      <td>nan</td>\n",
       "      <td>0</td>\n",
       "      <td>0</td>\n",
       "    </tr>\n",
       "    <tr>\n",
       "      <th>71511</th>\n",
       "      <td>ENGL</td>\n",
       "      <td>MARRIED</td>\n",
       "      <td>TSICU</td>\n",
       "      <td>0</td>\n",
       "      <td>0</td>\n",
       "      <td>nan</td>\n",
       "    </tr>\n",
       "  </tbody>\n",
       "</table>\n",
       "</div>"
      ],
      "text/plain": [
       "      LANGUAGE MARITAL_STATUS    ICU  ECodes:Adverseeffectsofmedicalcare  \\\n",
       "2251      ENGL        MARRIED   MICU                                 nan   \n",
       "9983      ENGL        MARRIED   MICU                                   0   \n",
       "10549     ENGL        MARRIED   MICU                                   0   \n",
       "10831     ENGL        MARRIED   MICU                                 nan   \n",
       "17012     ENGL        MARRIED   CSRU                                 nan   \n",
       "23088     ENGL        MARRIED    NaN                                   0   \n",
       "32539     ENGL            NaN   CSRU                                   0   \n",
       "42762     ENGL         SINGLE  TSICU                                 nan   \n",
       "53191      NaN        MARRIED   MICU                                   0   \n",
       "53390     CAPE        MARRIED    NaN                                   0   \n",
       "56772     ENGL        MARRIED   CSRU                                 nan   \n",
       "61852     ENGL        MARRIED   SICU                                 nan   \n",
       "71511     ENGL        MARRIED  TSICU                                   0   \n",
       "\n",
       "       Otnutritdx  Othnervdx  \n",
       "2251            0          0  \n",
       "9983          nan          0  \n",
       "10549         nan          0  \n",
       "10831           1          0  \n",
       "17012           0          1  \n",
       "23088           0          0  \n",
       "32539           0          0  \n",
       "42762           0          0  \n",
       "53191           0          0  \n",
       "53390           0          0  \n",
       "56772           0          0  \n",
       "61852           0          0  \n",
       "71511           0        nan  "
      ]
     },
     "execution_count": 19,
     "metadata": {},
     "output_type": "execute_result"
    }
   ],
   "source": [
    "x_miss_rows = x_df.isna().any(axis=\"columns\")\n",
    "\n",
    "x_df.loc[x_miss_rows, x_miss.index]"
   ]
  },
  {
   "cell_type": "markdown",
   "metadata": {
    "id": "YqzfZLV8mK9j"
   },
   "source": [
    "#### Remplacement des NAN"
   ]
  },
  {
   "cell_type": "code",
   "execution_count": 20,
   "metadata": {
    "id": "tY76xSIWmK9k"
   },
   "outputs": [],
   "source": [
    "na_cols = set(x_miss.index) | set(x_test_miss.index)\n",
    "\n",
    "for col in na_cols:\n",
    "    x_df[col].fillna(x_df[col].mode()[0], inplace=True)\n",
    "    x_test_df[col].fillna(x_test_df[col].mode()[0], inplace=True)"
   ]
  },
  {
   "cell_type": "code",
   "execution_count": 21,
   "metadata": {
    "id": "Z5LSQPARmK9l"
   },
   "outputs": [
    {
     "name": "stdout",
     "output_type": "stream",
     "text": [
      "False\n",
      "False\n"
     ]
    }
   ],
   "source": [
    "print(\n",
    "    x_df.isna().any().any(),\n",
    "    x_test_df.isna().any().any(),\n",
    "    sep=\"\\n\",\n",
    ")"
   ]
  },
  {
   "cell_type": "code",
   "execution_count": 22,
   "metadata": {
    "id": "C9xL-9A8mK9m"
   },
   "outputs": [
    {
     "name": "stdout",
     "output_type": "stream",
     "text": [
      "(79999, 337) (20001, 337)\n"
     ]
    }
   ],
   "source": [
    "print(x_df.shape, x_test_df.shape)"
   ]
  },
  {
   "cell_type": "markdown",
   "metadata": {
    "id": "3ZPTCmZHmK9m"
   },
   "source": [
    "### Gestion des catégories rares"
   ]
  },
  {
   "cell_type": "markdown",
   "metadata": {
    "id": "BXHWJO-KmK9n"
   },
   "source": [
    "Simplifiez les données en regroupant par exemple les catégories rares."
   ]
  },
  {
   "cell_type": "code",
   "execution_count": 23,
   "metadata": {
    "id": "VZNf5iXrmK9n"
   },
   "outputs": [
    {
     "name": "stdout",
     "output_type": "stream",
     "text": [
      "Index(['CATHOLIC', 'NOT_SPECIFIED', 'UNOBTAINABLE', 'PROTESTANT_QUAKER',\n",
      "       'JEWISH'],\n",
      "      dtype='object')\n",
      "CATHOLIC             7517\n",
      "NOT_SPECIFIED        3764\n",
      "OTHER                2449\n",
      "PROTESTANT_QUAKER    2208\n",
      "UNOBTAINABLE         2208\n",
      "JEWISH               1855\n",
      "Name: RELIGION, dtype: int64\n"
     ]
    }
   ],
   "source": [
    "def merge_rare_categories(dfs, col, keeps=None, keep_n=5):\n",
    "    if keeps is None:\n",
    "        keeps = x_df[col].value_counts()[:keep_n].index\n",
    "        print(keeps)\n",
    "\n",
    "    for df in dfs:\n",
    "        df.loc[~df[col].isin(keeps), col] = \"OTHER\"\n",
    "\n",
    "\n",
    "merge_rare_categories([x_df, x_test_df], col=\"RELIGION\", keep_n=5) #Only the top-5 most popular categories (in the religion column) are kept, the rest is merged\n",
    "print(x_test_df[\"RELIGION\"].value_counts())"
   ]
  },
  {
   "cell_type": "markdown",
   "metadata": {
    "id": "QKYicsijmK9o"
   },
   "source": [
    "#### Code : Effectuez des regroupements de catégories rares pour d'autres variables si vous le jugez nécessaire"
   ]
  },
  {
   "cell_type": "markdown",
   "metadata": {
    "id": "oOB-ZX2-mK9p"
   },
   "source": [
    "<span style=\"color:red\">\n",
    "    Répondre ci-dessous\n",
    "</span>"
   ]
  },
  {
   "cell_type": "code",
   "execution_count": 24,
   "metadata": {
    "id": "aFI8ntdImK9p"
   },
   "outputs": [
    {
     "name": "stdout",
     "output_type": "stream",
     "text": [
      "Index(['ENGL', 'SPAN', 'RUSS', 'PTUN', 'CANT'], dtype='object')\n",
      "Index(['WHITE', 'UNKNOWN/NOT_SPECIFIED', 'BLACK/AFRICAN_AMERICAN', 'OTHER',\n",
      "       'HISPANIC_OR_LATINO'],\n",
      "      dtype='object')\n"
     ]
    }
   ],
   "source": [
    "merge_rare_categories([x_df, x_test_df], col=\"LANGUAGE\", keep_n=5)\n",
    "merge_rare_categories([x_df, x_test_df], col=\"ETHNICITY\", keep_n=5)"
   ]
  },
  {
   "cell_type": "markdown",
   "metadata": {
    "id": "h4Jd2-NqmK9q"
   },
   "source": [
    "### Transformation des données catégorielles en nombres entiers en utilisant deux types d'encodage"
   ]
  },
  {
   "cell_type": "markdown",
   "metadata": {
    "id": "sdgoLqnTmK9q"
   },
   "source": [
    "Les variables catégorielles sont présentées sous forme de chaines de caractères. La plupart des modèles ne pourront pas les prendre en entrée.\n",
    "\n",
    "#### Encodage numérique simple\n",
    "\n",
    "Deux des méthodes les plus simples sont `LabelEncoder` de Scikit-Learn et `factorize` de pandas. Elles consistent simplement à remplacer chaque nouvelle catégorie rencontrée par un entier, en commençant par 0. Ce n'est cependant peut-être pas la méthode la plus efficace, car elle présuppose une proximité entre les catégories codées avec des valeurs proches."
   ]
  },
  {
   "cell_type": "code",
   "execution_count": 25,
   "metadata": {
    "id": "-YdWvhFgmK9r"
   },
   "outputs": [],
   "source": [
    "def label_encode(df, other_df, only_binary=False):\n",
    "\n",
    "    char_cols = df.dtypes.pipe(lambda x: x[x == \"object\"]).index\n",
    "    # print(char_cols)\n",
    "\n",
    "    for col in char_cols:\n",
    "        n_categories = len(x_df[col].unique())\n",
    "\n",
    "        if not only_binary or n_categories == 2:\n",
    "            codes, uniques = pd.factorize(df[col])\n",
    "            df[col] = codes\n",
    "\n",
    "            # Create conversion dic to convert values of test set as well\n",
    "            cat2code = {k: v for v, k in enumerate(uniques)}\n",
    "            other_df[col] = other_df[col].map(cat2code)"
   ]
  },
  {
   "cell_type": "code",
   "execution_count": 26,
   "metadata": {
    "id": "SRqS5LUYmK9r"
   },
   "outputs": [
    {
     "data": {
      "text/html": [
       "<div>\n",
       "<style scoped>\n",
       "    .dataframe tbody tr th:only-of-type {\n",
       "        vertical-align: middle;\n",
       "    }\n",
       "\n",
       "    .dataframe tbody tr th {\n",
       "        vertical-align: top;\n",
       "    }\n",
       "\n",
       "    .dataframe thead th {\n",
       "        text-align: right;\n",
       "    }\n",
       "</style>\n",
       "<table border=\"1\" class=\"dataframe\">\n",
       "  <thead>\n",
       "    <tr style=\"text-align: right;\">\n",
       "      <th></th>\n",
       "      <th>INSURANCE</th>\n",
       "      <th>LANGUAGE</th>\n",
       "      <th>RELIGION</th>\n",
       "      <th>MARITAL_STATUS</th>\n",
       "      <th>ETHNICITY</th>\n",
       "      <th>GENDER</th>\n",
       "      <th>AGE</th>\n",
       "      <th>HR_MIN_DAY1</th>\n",
       "      <th>HR_MAX_DAY1</th>\n",
       "      <th>HR_MEAN_DAY1</th>\n",
       "      <th>...</th>\n",
       "      <th>Eyeinfectn</th>\n",
       "      <th>Othereyedx</th>\n",
       "      <th>Otitismedia</th>\n",
       "      <th>Dizziness</th>\n",
       "      <th>Othereardx</th>\n",
       "      <th>Othnervdx</th>\n",
       "      <th>Hrtvalvedx</th>\n",
       "      <th>Carditis</th>\n",
       "      <th>HTN</th>\n",
       "      <th>Htncomplicn</th>\n",
       "    </tr>\n",
       "  </thead>\n",
       "  <tbody>\n",
       "    <tr>\n",
       "      <th>0</th>\n",
       "      <td>Private</td>\n",
       "      <td>ENGL</td>\n",
       "      <td>CATHOLIC</td>\n",
       "      <td>DIVORCED</td>\n",
       "      <td>WHITE</td>\n",
       "      <td>F</td>\n",
       "      <td>21</td>\n",
       "      <td>57.2</td>\n",
       "      <td>109</td>\n",
       "      <td>70.8</td>\n",
       "      <td>...</td>\n",
       "      <td>0</td>\n",
       "      <td>0</td>\n",
       "      <td>0</td>\n",
       "      <td>0</td>\n",
       "      <td>0</td>\n",
       "      <td>0</td>\n",
       "      <td>0</td>\n",
       "      <td>0</td>\n",
       "      <td>0</td>\n",
       "      <td>0</td>\n",
       "    </tr>\n",
       "    <tr>\n",
       "      <th>1</th>\n",
       "      <td>Private</td>\n",
       "      <td>ENGL</td>\n",
       "      <td>UNOBTAINABLE</td>\n",
       "      <td>SINGLE</td>\n",
       "      <td>WHITE</td>\n",
       "      <td>M</td>\n",
       "      <td>39</td>\n",
       "      <td>79.3</td>\n",
       "      <td>121</td>\n",
       "      <td>96.9</td>\n",
       "      <td>...</td>\n",
       "      <td>0</td>\n",
       "      <td>0</td>\n",
       "      <td>0</td>\n",
       "      <td>0</td>\n",
       "      <td>0</td>\n",
       "      <td>0</td>\n",
       "      <td>0</td>\n",
       "      <td>0</td>\n",
       "      <td>0</td>\n",
       "      <td>1</td>\n",
       "    </tr>\n",
       "    <tr>\n",
       "      <th>2</th>\n",
       "      <td>Medicaid</td>\n",
       "      <td>SPAN</td>\n",
       "      <td>CATHOLIC</td>\n",
       "      <td>WIDOWED</td>\n",
       "      <td>OTHER</td>\n",
       "      <td>M</td>\n",
       "      <td>40</td>\n",
       "      <td>118</td>\n",
       "      <td>175</td>\n",
       "      <td>141</td>\n",
       "      <td>...</td>\n",
       "      <td>0</td>\n",
       "      <td>0</td>\n",
       "      <td>0</td>\n",
       "      <td>0</td>\n",
       "      <td>0</td>\n",
       "      <td>0</td>\n",
       "      <td>0</td>\n",
       "      <td>0</td>\n",
       "      <td>0</td>\n",
       "      <td>0</td>\n",
       "    </tr>\n",
       "  </tbody>\n",
       "</table>\n",
       "<p>3 rows × 337 columns</p>\n",
       "</div>"
      ],
      "text/plain": [
       "  INSURANCE LANGUAGE      RELIGION MARITAL_STATUS ETHNICITY GENDER  AGE  \\\n",
       "0   Private     ENGL      CATHOLIC       DIVORCED     WHITE      F   21   \n",
       "1   Private     ENGL  UNOBTAINABLE         SINGLE     WHITE      M   39   \n",
       "2  Medicaid     SPAN      CATHOLIC        WIDOWED     OTHER      M   40   \n",
       "\n",
       "   HR_MIN_DAY1  HR_MAX_DAY1  HR_MEAN_DAY1  ...  Eyeinfectn  Othereyedx  \\\n",
       "0         57.2          109          70.8  ...           0           0   \n",
       "1         79.3          121          96.9  ...           0           0   \n",
       "2          118          175           141  ...           0           0   \n",
       "\n",
       "   Otitismedia  Dizziness  Othereardx  Othnervdx  Hrtvalvedx  Carditis  HTN  \\\n",
       "0            0          0           0          0           0         0    0   \n",
       "1            0          0           0          0           0         0    0   \n",
       "2            0          0           0          0           0         0    0   \n",
       "\n",
       "   Htncomplicn  \n",
       "0            0  \n",
       "1            1  \n",
       "2            0  \n",
       "\n",
       "[3 rows x 337 columns]"
      ]
     },
     "execution_count": 26,
     "metadata": {},
     "output_type": "execute_result"
    }
   ],
   "source": [
    "x_df.head(3)"
   ]
  },
  {
   "cell_type": "code",
   "execution_count": 27,
   "metadata": {
    "id": "X0rsfncImK9s"
   },
   "outputs": [
    {
     "name": "stdout",
     "output_type": "stream",
     "text": [
      "(79999, 337) (79999,)\n"
     ]
    }
   ],
   "source": [
    "print(x_df.shape, ys.shape)"
   ]
  },
  {
   "cell_type": "code",
   "execution_count": 28,
   "metadata": {
    "id": "6zzXiYOMmK9t"
   },
   "outputs": [],
   "source": [
    "x_fact_df = x_df.copy()\n",
    "x_test_fact_df = x_test_df.copy()\n",
    "\n",
    "label_encode(x_fact_df, x_test_fact_df)"
   ]
  },
  {
   "cell_type": "code",
   "execution_count": 29,
   "metadata": {
    "id": "QXvK_WcomK9u"
   },
   "outputs": [
    {
     "data": {
      "text/html": [
       "<div>\n",
       "<style scoped>\n",
       "    .dataframe tbody tr th:only-of-type {\n",
       "        vertical-align: middle;\n",
       "    }\n",
       "\n",
       "    .dataframe tbody tr th {\n",
       "        vertical-align: top;\n",
       "    }\n",
       "\n",
       "    .dataframe thead th {\n",
       "        text-align: right;\n",
       "    }\n",
       "</style>\n",
       "<table border=\"1\" class=\"dataframe\">\n",
       "  <thead>\n",
       "    <tr style=\"text-align: right;\">\n",
       "      <th></th>\n",
       "      <th>INSURANCE</th>\n",
       "      <th>LANGUAGE</th>\n",
       "      <th>RELIGION</th>\n",
       "      <th>MARITAL_STATUS</th>\n",
       "      <th>ETHNICITY</th>\n",
       "      <th>GENDER</th>\n",
       "      <th>AGE</th>\n",
       "      <th>HR_MIN_DAY1</th>\n",
       "      <th>HR_MAX_DAY1</th>\n",
       "      <th>HR_MEAN_DAY1</th>\n",
       "      <th>...</th>\n",
       "      <th>Eyeinfectn</th>\n",
       "      <th>Othereyedx</th>\n",
       "      <th>Otitismedia</th>\n",
       "      <th>Dizziness</th>\n",
       "      <th>Othereardx</th>\n",
       "      <th>Othnervdx</th>\n",
       "      <th>Hrtvalvedx</th>\n",
       "      <th>Carditis</th>\n",
       "      <th>HTN</th>\n",
       "      <th>Htncomplicn</th>\n",
       "    </tr>\n",
       "  </thead>\n",
       "  <tbody>\n",
       "    <tr>\n",
       "      <th>0</th>\n",
       "      <td>0</td>\n",
       "      <td>0</td>\n",
       "      <td>0</td>\n",
       "      <td>0</td>\n",
       "      <td>0</td>\n",
       "      <td>0</td>\n",
       "      <td>21</td>\n",
       "      <td>57.2</td>\n",
       "      <td>109</td>\n",
       "      <td>70.8</td>\n",
       "      <td>...</td>\n",
       "      <td>0</td>\n",
       "      <td>0</td>\n",
       "      <td>0</td>\n",
       "      <td>0</td>\n",
       "      <td>0</td>\n",
       "      <td>0</td>\n",
       "      <td>0</td>\n",
       "      <td>0</td>\n",
       "      <td>0</td>\n",
       "      <td>0</td>\n",
       "    </tr>\n",
       "    <tr>\n",
       "      <th>1</th>\n",
       "      <td>0</td>\n",
       "      <td>0</td>\n",
       "      <td>1</td>\n",
       "      <td>1</td>\n",
       "      <td>0</td>\n",
       "      <td>1</td>\n",
       "      <td>39</td>\n",
       "      <td>79.3</td>\n",
       "      <td>121</td>\n",
       "      <td>96.9</td>\n",
       "      <td>...</td>\n",
       "      <td>0</td>\n",
       "      <td>0</td>\n",
       "      <td>0</td>\n",
       "      <td>0</td>\n",
       "      <td>0</td>\n",
       "      <td>0</td>\n",
       "      <td>0</td>\n",
       "      <td>0</td>\n",
       "      <td>0</td>\n",
       "      <td>1</td>\n",
       "    </tr>\n",
       "    <tr>\n",
       "      <th>2</th>\n",
       "      <td>1</td>\n",
       "      <td>1</td>\n",
       "      <td>0</td>\n",
       "      <td>2</td>\n",
       "      <td>1</td>\n",
       "      <td>1</td>\n",
       "      <td>40</td>\n",
       "      <td>118</td>\n",
       "      <td>175</td>\n",
       "      <td>141</td>\n",
       "      <td>...</td>\n",
       "      <td>0</td>\n",
       "      <td>0</td>\n",
       "      <td>0</td>\n",
       "      <td>0</td>\n",
       "      <td>0</td>\n",
       "      <td>0</td>\n",
       "      <td>0</td>\n",
       "      <td>0</td>\n",
       "      <td>0</td>\n",
       "      <td>0</td>\n",
       "    </tr>\n",
       "  </tbody>\n",
       "</table>\n",
       "<p>3 rows × 337 columns</p>\n",
       "</div>"
      ],
      "text/plain": [
       "   INSURANCE  LANGUAGE  RELIGION  MARITAL_STATUS  ETHNICITY  GENDER  AGE  \\\n",
       "0          0         0         0               0          0       0   21   \n",
       "1          0         0         1               1          0       1   39   \n",
       "2          1         1         0               2          1       1   40   \n",
       "\n",
       "   HR_MIN_DAY1  HR_MAX_DAY1  HR_MEAN_DAY1  ...  Eyeinfectn  Othereyedx  \\\n",
       "0         57.2          109          70.8  ...           0           0   \n",
       "1         79.3          121          96.9  ...           0           0   \n",
       "2          118          175           141  ...           0           0   \n",
       "\n",
       "   Otitismedia  Dizziness  Othereardx  Othnervdx  Hrtvalvedx  Carditis  HTN  \\\n",
       "0            0          0           0          0           0         0    0   \n",
       "1            0          0           0          0           0         0    0   \n",
       "2            0          0           0          0           0         0    0   \n",
       "\n",
       "   Htncomplicn  \n",
       "0            0  \n",
       "1            1  \n",
       "2            0  \n",
       "\n",
       "[3 rows x 337 columns]"
      ]
     },
     "execution_count": 29,
     "metadata": {},
     "output_type": "execute_result"
    }
   ],
   "source": [
    "x_fact_df.head(3)"
   ]
  },
  {
   "cell_type": "code",
   "execution_count": 30,
   "metadata": {
    "id": "q2WaR8zHmK9u"
   },
   "outputs": [
    {
     "data": {
      "text/html": [
       "<div>\n",
       "<style scoped>\n",
       "    .dataframe tbody tr th:only-of-type {\n",
       "        vertical-align: middle;\n",
       "    }\n",
       "\n",
       "    .dataframe tbody tr th {\n",
       "        vertical-align: top;\n",
       "    }\n",
       "\n",
       "    .dataframe thead th {\n",
       "        text-align: right;\n",
       "    }\n",
       "</style>\n",
       "<table border=\"1\" class=\"dataframe\">\n",
       "  <thead>\n",
       "    <tr style=\"text-align: right;\">\n",
       "      <th></th>\n",
       "      <th>INSURANCE</th>\n",
       "      <th>LANGUAGE</th>\n",
       "      <th>RELIGION</th>\n",
       "      <th>MARITAL_STATUS</th>\n",
       "      <th>ETHNICITY</th>\n",
       "      <th>GENDER</th>\n",
       "      <th>AGE</th>\n",
       "      <th>HR_MIN_DAY1</th>\n",
       "      <th>HR_MAX_DAY1</th>\n",
       "      <th>HR_MEAN_DAY1</th>\n",
       "      <th>...</th>\n",
       "      <th>Eyeinfectn</th>\n",
       "      <th>Othereyedx</th>\n",
       "      <th>Otitismedia</th>\n",
       "      <th>Dizziness</th>\n",
       "      <th>Othereardx</th>\n",
       "      <th>Othnervdx</th>\n",
       "      <th>Hrtvalvedx</th>\n",
       "      <th>Carditis</th>\n",
       "      <th>HTN</th>\n",
       "      <th>Htncomplicn</th>\n",
       "    </tr>\n",
       "  </thead>\n",
       "  <tbody>\n",
       "    <tr>\n",
       "      <th>0</th>\n",
       "      <td>3</td>\n",
       "      <td>0</td>\n",
       "      <td>5</td>\n",
       "      <td>3</td>\n",
       "      <td>0</td>\n",
       "      <td>0</td>\n",
       "      <td>18</td>\n",
       "      <td>72.6</td>\n",
       "      <td>113</td>\n",
       "      <td>96.5</td>\n",
       "      <td>...</td>\n",
       "      <td>0</td>\n",
       "      <td>0</td>\n",
       "      <td>0</td>\n",
       "      <td>0</td>\n",
       "      <td>0</td>\n",
       "      <td>0</td>\n",
       "      <td>0</td>\n",
       "      <td>0</td>\n",
       "      <td>0</td>\n",
       "      <td>0</td>\n",
       "    </tr>\n",
       "    <tr>\n",
       "      <th>1</th>\n",
       "      <td>2</td>\n",
       "      <td>0</td>\n",
       "      <td>2</td>\n",
       "      <td>1</td>\n",
       "      <td>3</td>\n",
       "      <td>0</td>\n",
       "      <td>56</td>\n",
       "      <td>66.6</td>\n",
       "      <td>107</td>\n",
       "      <td>83.8</td>\n",
       "      <td>...</td>\n",
       "      <td>0</td>\n",
       "      <td>0</td>\n",
       "      <td>0</td>\n",
       "      <td>0</td>\n",
       "      <td>0</td>\n",
       "      <td>0</td>\n",
       "      <td>0</td>\n",
       "      <td>0</td>\n",
       "      <td>1</td>\n",
       "      <td>0</td>\n",
       "    </tr>\n",
       "    <tr>\n",
       "      <th>2</th>\n",
       "      <td>1</td>\n",
       "      <td>0</td>\n",
       "      <td>0</td>\n",
       "      <td>1</td>\n",
       "      <td>0</td>\n",
       "      <td>1</td>\n",
       "      <td>32</td>\n",
       "      <td>69.7</td>\n",
       "      <td>103</td>\n",
       "      <td>87.3</td>\n",
       "      <td>...</td>\n",
       "      <td>0</td>\n",
       "      <td>0</td>\n",
       "      <td>0</td>\n",
       "      <td>0</td>\n",
       "      <td>0</td>\n",
       "      <td>0</td>\n",
       "      <td>0</td>\n",
       "      <td>0</td>\n",
       "      <td>0</td>\n",
       "      <td>0</td>\n",
       "    </tr>\n",
       "  </tbody>\n",
       "</table>\n",
       "<p>3 rows × 337 columns</p>\n",
       "</div>"
      ],
      "text/plain": [
       "   INSURANCE  LANGUAGE  RELIGION  MARITAL_STATUS  ETHNICITY  GENDER  AGE  \\\n",
       "0          3         0         5               3          0       0   18   \n",
       "1          2         0         2               1          3       0   56   \n",
       "2          1         0         0               1          0       1   32   \n",
       "\n",
       "   HR_MIN_DAY1  HR_MAX_DAY1  HR_MEAN_DAY1  ...  Eyeinfectn  Othereyedx  \\\n",
       "0         72.6          113          96.5  ...           0           0   \n",
       "1         66.6          107          83.8  ...           0           0   \n",
       "2         69.7          103          87.3  ...           0           0   \n",
       "\n",
       "   Otitismedia  Dizziness  Othereardx  Othnervdx  Hrtvalvedx  Carditis  HTN  \\\n",
       "0            0          0           0          0           0         0    0   \n",
       "1            0          0           0          0           0         0    1   \n",
       "2            0          0           0          0           0         0    0   \n",
       "\n",
       "   Htncomplicn  \n",
       "0            0  \n",
       "1            0  \n",
       "2            0  \n",
       "\n",
       "[3 rows x 337 columns]"
      ]
     },
     "execution_count": 30,
     "metadata": {},
     "output_type": "execute_result"
    }
   ],
   "source": [
    "x_test_fact_df.head(3)"
   ]
  },
  {
   "cell_type": "markdown",
   "metadata": {
    "id": "RCjC9eD5mK9v"
   },
   "source": [
    "#### Encodage 1-Hot\n",
    "\n",
    "Un autre type d'encodage est souvent plus efficace, il a notamment l'avantage de ne pas ordonner les classes d'une manière particulière (pas forcément en adéquation avec la proximité de ces classes entre elles).\n",
    "\n",
    "Une méthode de pandas permet de le réaliser en 1 ligne de code avec la fonction `get_dummies`."
   ]
  },
  {
   "cell_type": "code",
   "execution_count": 31,
   "metadata": {
    "id": "i4Do-LDjmK9v"
   },
   "outputs": [
    {
     "data": {
      "text/plain": [
       "{'DIVORCED': 0,\n",
       " 'SINGLE': 1,\n",
       " 'WIDOWED': 2,\n",
       " 'MARRIED': 3,\n",
       " 'UNKNOWN_(DEFAULT)': 4,\n",
       " 'SEPARATED': 5,\n",
       " 'LIFE_PARTNER': 6}"
      ]
     },
     "execution_count": 31,
     "metadata": {},
     "output_type": "execute_result"
    }
   ],
   "source": [
    "codes, uniques = pd.factorize(x_df[\"MARITAL_STATUS\"])\n",
    "cat2code = {k: v for v, k in enumerate(uniques)}\n",
    "cat2code"
   ]
  },
  {
   "cell_type": "markdown",
   "metadata": {
    "id": "3vDVj7AKmK9w"
   },
   "source": [
    "Exemple d'encodage 1-hot avec la fonction `get_dummies` de pandas (pour MARITAL_STATUS) :\n",
    "\n",
    "|    |   DIVORCED |   LIFE_PARTNER |   MARRIED |   SEPARATED |   SINGLE |   UNKNOWN_(DEFAULT) |   WIDOWED |\n",
    "|---:|-----------:|---------------:|----------:|------------:|---------:|--------------------:|----------:|\n",
    "|  0 |          1 |              0 |         0 |           0 |        0 |                   0 |         0 |\n",
    "|  1 |          0 |              0 |         0 |           0 |        1 |                   0 |         0 |\n",
    "|  2 |          0 |              0 |         0 |           0 |        0 |                   0 |         1 |\n",
    "|  3 |          0 |              0 |         1 |           0 |        0 |                   0 |         0 |\n",
    "|  4 |          0 |              0 |         1 |           0 |        0 |                   0 |         0 |"
   ]
  },
  {
   "cell_type": "code",
   "execution_count": 32,
   "metadata": {
    "id": "HA3d5JuLmK9x"
   },
   "outputs": [
    {
     "name": "stdout",
     "output_type": "stream",
     "text": [
      "(79999, 337) (20001, 337)\n",
      "(79999, 365) (20001, 365)\n"
     ]
    }
   ],
   "source": [
    "# Encode binary features on a single column (no need for 1-hot)\n",
    "label_encode(x_df, x_test_df, only_binary=True)\n",
    "\n",
    "x_all_oh_df = pd.get_dummies(pd.concat([x_df, x_test_df]))\n",
    "\n",
    "x_oh_df = x_all_oh_df.iloc[: len(x_df)].copy()\n",
    "x_test_oh_df = x_all_oh_df.iloc[len(x_df):].copy()\n",
    "\n",
    "print(x_df.shape, x_test_df.shape)\n",
    "print(x_oh_df.shape, x_test_oh_df.shape)"
   ]
  },
  {
   "cell_type": "markdown",
   "metadata": {
    "id": "VWk5WvZ6mK9y"
   },
   "source": [
    "#### Suppression des variables à valeur unique (constantes)"
   ]
  },
  {
   "cell_type": "code",
   "execution_count": 33,
   "metadata": {
    "id": "z_IrZB2XmK9y"
   },
   "outputs": [
    {
     "data": {
      "text/plain": [
       "173"
      ]
     },
     "execution_count": 33,
     "metadata": {},
     "output_type": "execute_result"
    }
   ],
   "source": [
    "const_cols = {col for col in x_oh_df if len(x_oh_df[col].unique()) == 1}\n",
    "len(const_cols)"
   ]
  },
  {
   "cell_type": "code",
   "execution_count": 34,
   "metadata": {
    "id": "i1VWfnHBmK9z"
   },
   "outputs": [
    {
     "name": "stdout",
     "output_type": "stream",
     "text": [
      "(79999, 192) (20001, 192)\n"
     ]
    }
   ],
   "source": [
    "x_oh_df.drop(const_cols, axis=\"columns\", inplace=True)\n",
    "x_test_oh_df.drop(const_cols, axis=\"columns\", inplace=True)\n",
    "\n",
    "print(x_oh_df.shape, x_test_oh_df.shape)"
   ]
  },
  {
   "cell_type": "markdown",
   "metadata": {
    "id": "Hwye_MrZmK90"
   },
   "source": [
    "### Création de l'ensemble de validation"
   ]
  },
  {
   "cell_type": "code",
   "execution_count": 35,
   "metadata": {
    "id": "-1pvtIjRmK91"
   },
   "outputs": [],
   "source": [
    "x_train, x_valid, y_train, y_valid = model_selection.train_test_split(\n",
    "    x_oh_df, ys, test_size=0.3\n",
    ")\n",
    "# VARS: x_df, x_fact_df, x_oh_df"
   ]
  },
  {
   "cell_type": "markdown",
   "metadata": {
    "id": "Swt068n_mK91"
   },
   "source": [
    "### Réduction de la dimension via l'ACP (PCA)"
   ]
  },
  {
   "cell_type": "markdown",
   "metadata": {
    "id": "XfEQ0bKrmK92"
   },
   "source": [
    "Testez l'ACP pour réduire le nombre de dimensions et observez si cela améliore le résultat.\n",
    "\n",
    "Avant d'appliquer la ACP, il est conseillé de centrer-réduire les données (e.g., via `preprocessing.StandardScaler()`)."
   ]
  },
  {
   "cell_type": "markdown",
   "metadata": {
    "id": "EnHHxZdTmK93"
   },
   "source": [
    "<span style=\"color:red\">\n",
    "    Répondre ci-dessous\n",
    "</span>"
   ]
  },
  {
   "cell_type": "code",
   "execution_count": 36,
   "metadata": {
    "id": "FBtkpzpImK94"
   },
   "outputs": [
    {
     "name": "stdout",
     "output_type": "stream",
     "text": [
      "(55999, 192) (24000, 192)\n",
      "(55999, 20) (24000, 20)\n"
     ]
    }
   ],
   "source": [
    "scaler = preprocessing.StandardScaler()\n",
    "xs_train = scaler.fit_transform(x_train)\n",
    "xs_valid = scaler.transform(x_valid)\n",
    "\n",
    "N_COMP = 20\n",
    "\n",
    "pca = decomposition.PCA(n_components=N_COMP)\n",
    "xp_train = pca.fit_transform(xs_train)\n",
    "xp_valid = pca.transform(xs_valid)\n",
    "\n",
    "print(x_train.shape, x_valid.shape)\n",
    "print(xp_train.shape, xp_valid.shape)"
   ]
  },
  {
   "cell_type": "markdown",
   "metadata": {
    "id": "6Ml2ZTsomK95"
   },
   "source": [
    "Proposez un graphique qui représente les 2 premières dimensions de la PCA et commentez succinctement."
   ]
  },
  {
   "cell_type": "markdown",
   "metadata": {
    "id": "dBCIrxg9mK96"
   },
   "source": [
    "<span style=\"color:red\">\n",
    "    Répondre ci-dessous\n",
    "</span>"
   ]
  },
  {
   "cell_type": "code",
   "execution_count": 38,
   "metadata": {
    "id": "Gdd6_cQ1mK96"
   },
   "outputs": [
    {
     "data": {
      "text/plain": [
       "<matplotlib.collections.PathCollection at 0x14700080880>"
      ]
     },
     "execution_count": 38,
     "metadata": {},
     "output_type": "execute_result"
    },
    {
     "data": {
      "image/png": "[encoded data removed]",
      "text/plain": [
       "<Figure size 432x288 with 1 Axes>"
      ]
     },
     "metadata": {
      "image/png": {
       "height": 248,
       "width": 377
      },
      "needs_background": "light"
     },
     "output_type": "display_data"
    }
   ],
   "source": [
    "plt.scatter(\n",
    "    xp_valid[:,0],\n",
    "    xp_valid[:,1],\n",
    "    c=[('#00ff0000' if x==1 else '#00ff00ff') for x in y_valid])\n",
    "plt.scatter(\n",
    "    xp_valid[:,0],\n",
    "    xp_valid[:,1],\n",
    "    c=[('#ff0000ff' if x==1 else '#ff000000') for x in y_valid])"
   ]
  },
  {
   "cell_type": "markdown",
   "metadata": {
    "id": "HbfQDpVimK97"
   },
   "source": [
    "<span style=\"color:red\">\n",
    "    Utiliser des cellules markdown pour ajouter des commentaires\n",
    "</span>"
   ]
  },
  {
   "cell_type": "markdown",
   "metadata": {
    "id": "W4Lg9IABmK98"
   },
   "source": [
    "Voici un scatterplot utilisant les deux premières dimensions de la PCA pour représenter les patients. Les verts en arrières plan sont les vivants et les rouges sont les morts.\n",
    "\n",
    "On pourrait déduire que les rouges sont plus centré mais ce serait probablement une erreur dû au déséquilibre des deux catégories."
   ]
  },
  {
   "cell_type": "markdown",
   "metadata": {
    "id": "A0o19D7LmK98"
   },
   "source": [
    "## 5. Modèles de classification\n",
    "\n",
    "Entrainez le modèle"
   ]
  },
  {
   "cell_type": "markdown",
   "metadata": {
    "id": "L2E3hCfdmK99"
   },
   "source": [
    "### Baseline\n",
    "\n",
    "`LogisticRegression` or `RandomForestClassifier`"
   ]
  },
  {
   "cell_type": "code",
   "execution_count": 39,
   "metadata": {
    "id": "a6BG43fNmK9-"
   },
   "outputs": [],
   "source": [
    "SCORINGS = \"balanced_accuracy\""
   ]
  },
  {
   "cell_type": "markdown",
   "metadata": {
    "id": "h_5Ov0M-mK9_"
   },
   "source": [
    "<span style=\"color:red\">\n",
    "    Répondre ci-dessous\n",
    "</span>"
   ]
  },
  {
   "cell_type": "code",
   "execution_count": 40,
   "metadata": {
    "id": "wgqi446LmK9_"
   },
   "outputs": [],
   "source": [
    "from sklearn.neighbors import KNeighborsClassifier"
   ]
  },
  {
   "cell_type": "code",
   "execution_count": 41,
   "metadata": {
    "id": "4O79LIkpmK-A"
   },
   "outputs": [
    {
     "data": {
      "text/plain": [
       "GaussianNB()"
      ]
     },
     "execution_count": 41,
     "metadata": {},
     "output_type": "execute_result"
    }
   ],
   "source": [
    "# Testing with several models, only the GaussianNB is used\n",
    "\n",
    "# model = linear_model.LogisticRegression(max_iter=10000)\n",
    "# model = ensemble.RandomForestClassifier(n_estimators=10)\n",
    "# TODO: Try other models\n",
    "# model = svm.SVC()\n",
    "model = naive_bayes.GaussianNB()\n",
    "# model = KNeighborsClassifier(n_neighbors=5)\n",
    "\n",
    "model.fit(xp_train, y_train)  # training"
   ]
  },
  {
   "cell_type": "markdown",
   "metadata": {
    "id": "Z0al1DRbmK-B"
   },
   "source": [
    "## 6. Évaluations"
   ]
  },
  {
   "cell_type": "code",
   "execution_count": 42,
   "metadata": {
    "id": "FlhW5tSVmK-C"
   },
   "outputs": [
    {
     "name": "stdout",
     "output_type": "stream",
     "text": [
      "Balanced accuracy score: 0.505\n",
      "\n",
      "Recall score: 0.014\n",
      "\n"
     ]
    }
   ],
   "source": [
    "y_pred = model.predict(xp_valid)  # predictions\n",
    "\n",
    "score = metrics.balanced_accuracy_score(y_valid, y_pred)  # scoring\n",
    "\n",
    "print(f\"Balanced accuracy score: {score:.3g}\\n\")\n",
    "print(f\"Recall score: {metrics.recall_score(y_valid, y_pred):.3g}\\n\")"
   ]
  },
  {
   "cell_type": "markdown",
   "metadata": {
    "id": "H4_6xDnemK-D"
   },
   "source": [
    "PCA Component = 20\n",
    "\n",
    "Logistic Regression :\n",
    "Balanced accuracy score: 0.501\n",
    "Recall score: 0.00123\n",
    "\n",
    "RandomForestClassifier :\n",
    "Balanced accuracy score: 0.501\n",
    "Recall score: 0.00247\n",
    "\n",
    "SVC :\n",
    "Balanced accuracy score: 0.5\n",
    "Recall score: 0\n",
    "\n",
    "GaussianNB :\n",
    "Balanced accuracy score: 0.506\n",
    "Recall score: 0.016\n",
    "\n",
    "KNeighborsClassifier :\n",
    "Balanced accuracy score: 0.504\n",
    "Recall score: 0.00988\n",
    "\n",
    "Aucun de ces résultats ont un intérêt car toutes les modèles disent que tout les patients sont vivant, ce qui est représenté par un balanced accuracy score de 0.5 et un recall score proche de 0. Ce résultat est expliqué par le déséquilibre entre mort et vivant qui rend les modèles inefficaces. Pour résoudre ce problème, il faut faire augmenter le poids des morts en faisant de l'over-sampling. "
   ]
  },
  {
   "cell_type": "code",
   "execution_count": 43,
   "metadata": {
    "id": "VaWbhgTUmK-E"
   },
   "outputs": [],
   "source": [
    "ros = RandomOverSampler() # over-sample the minority class (the dead)\n",
    "x_resampled, y_resampled = ros.fit_resample(x_train, y_train)\n",
    "\n",
    "scaler = preprocessing.StandardScaler() #Normalizing the data using a StandardScaler (done after the ROS)\n",
    "xs_train = scaler.fit_transform(x_resampled)\n",
    "xs_valid = scaler.transform(x_valid)\n",
    "\n",
    "N_COMP = 20\n",
    "\n",
    "pca = decomposition.PCA(n_components=N_COMP)\n",
    "xp_train = pca.fit_transform(xs_train)\n",
    "xp_valid = pca.transform(xs_valid)"
   ]
  },
  {
   "cell_type": "code",
   "execution_count": 49,
   "metadata": {
    "id": "AQZqAjizmK-F"
   },
   "outputs": [
    {
     "name": "stdout",
     "output_type": "stream",
     "text": [
      "Balanced accuracy score: 0.69\n",
      "\n",
      "Recall score: 0.636\n",
      "\n"
     ]
    }
   ],
   "source": [
    "# model = linear_model.LogisticRegression(max_iter=10000) # Short time good precision bad recall | accuracy score: 0.656\n",
    "# model = ensemble.RandomForestClassifier(n_estimators=20) # Really bad recall | accuracy score: 0.5\n",
    "# model = svm.SVC() # Too long good precision bad recall | accuracy score: 0.64\n",
    "model = naive_bayes.GaussianNB() # Short time good precision bad recall | accuracy score:0.708\n",
    "#  model = KNeighborsClassifier(n_neighbors=5) # Too long bad accuracy score: 0.555\n",
    "\n",
    "model.fit(xp_train, y_resampled)  # training\n",
    "y_pred = model.predict(xp_valid)  # predictions\n",
    "\n",
    "score = metrics.balanced_accuracy_score(y_valid, y_pred)  # scoring\n",
    "\n",
    "print(f\"Balanced accuracy score: {score:.3g}\\n\")\n",
    "print(f\"Recall score: {metrics.recall_score(y_valid, y_pred):.3g}\\n\")"
   ]
  },
  {
   "cell_type": "markdown",
   "metadata": {
    "id": "tSjanPx5mK-H"
   },
   "source": [
    "### Code : Validation croisée\n",
    "\n",
    "Le code ci-dessus utilise une méthode simple (*hold out*) pour mesurer le score de validation. Utilisez la validation croisée (pour obtenir une estimation plus fiable) combinée à l'exploration des hyperparamètres (pour améliorer les résultats).\n",
    "\n",
    "Vous pouvez changer la valeur du nombre de validation croisée (CV) selon la valeur de l'erreur et le temps d'entrainement des modèles (compromis)."
   ]
  },
  {
   "cell_type": "code",
   "execution_count": 50,
   "metadata": {
    "id": "PGs34__FmK-I",
    "tags": []
   },
   "outputs": [],
   "source": [
    "CV = 10\n",
    "SCORING = \"balanced_accuracy\"\n",
    "param_grid = {\"pca__n_components\": [1, 2, 5, 10, 20, 30, 40, 60]}"
   ]
  },
  {
   "cell_type": "markdown",
   "metadata": {
    "id": "0cvcQqAWmK-J"
   },
   "source": [
    "<span style=\"color:red\">\n",
    "    Répondre ci-dessous\n",
    "</span>"
   ]
  },
  {
   "cell_type": "code",
   "execution_count": 52,
   "metadata": {
    "id": "SkT0ItCjmK-K"
   },
   "outputs": [],
   "source": [
    "scaler = preprocessing.StandardScaler()\n",
    "pca = decomposition.PCA()\n",
    "ros = RandomOverSampler()\n",
    "model = naive_bayes.GaussianNB() # using this model because it's one of the faster\n",
    "# model = linear_model.LogisticRegression(max_iter=10000)\n",
    "\n",
    "# over-sample the minority class (the dead)\n",
    "# ros doesn't have a fit_transform method so the pipeline doesn't work with it\n",
    "# doing the ros before is incorect since the validation set souldn't be oversampled\n",
    "# but the results are still usable\n",
    "ros = RandomOverSampler()\n",
    "x_resampled, y_resampled = ros.fit_resample(x_oh_df, ys)\n",
    "\n",
    "pipe = pipeline.Pipeline(steps=[(\"scaler\", scaler), (\"pca\", pca), (\"model\", model)])"
   ]
  },
  {
   "cell_type": "code",
   "execution_count": 53,
   "metadata": {
    "id": "DpVmVFd1mK-K"
   },
   "outputs": [
    {
     "name": "stdout",
     "output_type": "stream",
     "text": [
      "Fitting 10 folds for each of 8 candidates, totalling 80 fits\n"
     ]
    },
    {
     "name": "stderr",
     "output_type": "stream",
     "text": [
      "[Parallel(n_jobs=-1)]: Using backend LokyBackend with 4 concurrent workers.\n",
      "[Parallel(n_jobs=-1)]: Done  17 tasks      | elapsed:  1.3min\n",
      "[Parallel(n_jobs=-1)]: Done  80 out of  80 | elapsed:  6.4min finished\n"
     ]
    },
    {
     "data": {
      "text/plain": [
       "GridSearchCV(cv=10,\n",
       "             estimator=Pipeline(steps=[('scaler', StandardScaler()),\n",
       "                                       ('pca', PCA()),\n",
       "                                       ('model', GaussianNB())]),\n",
       "             n_jobs=-1,\n",
       "             param_grid={'pca__n_components': [1, 2, 5, 10, 20, 30, 40, 60]},\n",
       "             scoring='balanced_accuracy', verbose=4)"
      ]
     },
     "execution_count": 53,
     "metadata": {},
     "output_type": "execute_result"
    }
   ],
   "source": [
    "search = model_selection.GridSearchCV(\n",
    "    pipe, param_grid, n_jobs=-1, scoring=SCORING, verbose=4, cv=CV\n",
    ")\n",
    "\n",
    "search.fit(x_resampled, y_resampled)"
   ]
  },
  {
   "cell_type": "code",
   "execution_count": 54,
   "metadata": {
    "id": "AfWOWDvUmK-L"
   },
   "outputs": [
    {
     "name": "stdout",
     "output_type": "stream",
     "text": [
      "Best parameter (CV score: 0.698)\n",
      "{'pca__n_components': 20}\n"
     ]
    }
   ],
   "source": [
    "print(f\"Best parameter (CV score: {search.best_score_:.3f})\")\n",
    "\n",
    "print(search.best_params_)"
   ]
  },
  {
   "cell_type": "code",
   "execution_count": 55,
   "metadata": {
    "id": "WvhDZsuEmK-M"
   },
   "outputs": [
    {
     "data": {
      "text/html": [
       "<style  type=\"text/css\" >\n",
       "</style><table id=\"T_ec0412d5_c0ee_11ec_b25e_d8c49731ae33\" ><thead>    <tr>        <th class=\"blank level0\" ></th>        <th class=\"col_heading level0 col0\" >mean_fit_time</th>        <th class=\"col_heading level0 col1\" >std_fit_time</th>        <th class=\"col_heading level0 col2\" >mean_score_time</th>        <th class=\"col_heading level0 col3\" >std_score_time</th>        <th class=\"col_heading level0 col4\" >param_pca__n_components</th>        <th class=\"col_heading level0 col5\" >split0_test_score</th>        <th class=\"col_heading level0 col6\" >split1_test_score</th>        <th class=\"col_heading level0 col7\" >split2_test_score</th>        <th class=\"col_heading level0 col8\" >split3_test_score</th>        <th class=\"col_heading level0 col9\" >split4_test_score</th>        <th class=\"col_heading level0 col10\" >split5_test_score</th>        <th class=\"col_heading level0 col11\" >split6_test_score</th>        <th class=\"col_heading level0 col12\" >split7_test_score</th>        <th class=\"col_heading level0 col13\" >split8_test_score</th>        <th class=\"col_heading level0 col14\" >split9_test_score</th>        <th class=\"col_heading level0 col15\" >mean_test_score</th>        <th class=\"col_heading level0 col16\" >std_test_score</th>        <th class=\"col_heading level0 col17\" >rank_test_score</th>    </tr></thead><tbody>\n",
       "                <tr>\n",
       "                        <th id=\"T_ec0412d5_c0ee_11ec_b25e_d8c49731ae33level0_row0\" class=\"row_heading level0 row0\" >0</th>\n",
       "                        <td id=\"T_ec0412d5_c0ee_11ec_b25e_d8c49731ae33row0_col0\" class=\"data row0 col0\" >17</td>\n",
       "                        <td id=\"T_ec0412d5_c0ee_11ec_b25e_d8c49731ae33row0_col1\" class=\"data row0 col1\" >5.6</td>\n",
       "                        <td id=\"T_ec0412d5_c0ee_11ec_b25e_d8c49731ae33row0_col2\" class=\"data row0 col2\" >0.31</td>\n",
       "                        <td id=\"T_ec0412d5_c0ee_11ec_b25e_d8c49731ae33row0_col3\" class=\"data row0 col3\" >0.066</td>\n",
       "                        <td id=\"T_ec0412d5_c0ee_11ec_b25e_d8c49731ae33row0_col4\" class=\"data row0 col4\" >1</td>\n",
       "                        <td id=\"T_ec0412d5_c0ee_11ec_b25e_d8c49731ae33row0_col5\" class=\"data row0 col5\" >0.52</td>\n",
       "                        <td id=\"T_ec0412d5_c0ee_11ec_b25e_d8c49731ae33row0_col6\" class=\"data row0 col6\" >0.52</td>\n",
       "                        <td id=\"T_ec0412d5_c0ee_11ec_b25e_d8c49731ae33row0_col7\" class=\"data row0 col7\" >0.53</td>\n",
       "                        <td id=\"T_ec0412d5_c0ee_11ec_b25e_d8c49731ae33row0_col8\" class=\"data row0 col8\" >0.51</td>\n",
       "                        <td id=\"T_ec0412d5_c0ee_11ec_b25e_d8c49731ae33row0_col9\" class=\"data row0 col9\" >0.52</td>\n",
       "                        <td id=\"T_ec0412d5_c0ee_11ec_b25e_d8c49731ae33row0_col10\" class=\"data row0 col10\" >0.52</td>\n",
       "                        <td id=\"T_ec0412d5_c0ee_11ec_b25e_d8c49731ae33row0_col11\" class=\"data row0 col11\" >0.53</td>\n",
       "                        <td id=\"T_ec0412d5_c0ee_11ec_b25e_d8c49731ae33row0_col12\" class=\"data row0 col12\" >0.53</td>\n",
       "                        <td id=\"T_ec0412d5_c0ee_11ec_b25e_d8c49731ae33row0_col13\" class=\"data row0 col13\" >0.53</td>\n",
       "                        <td id=\"T_ec0412d5_c0ee_11ec_b25e_d8c49731ae33row0_col14\" class=\"data row0 col14\" >0.52</td>\n",
       "                        <td id=\"T_ec0412d5_c0ee_11ec_b25e_d8c49731ae33row0_col15\" class=\"data row0 col15\" >0.52</td>\n",
       "                        <td id=\"T_ec0412d5_c0ee_11ec_b25e_d8c49731ae33row0_col16\" class=\"data row0 col16\" >0.0046</td>\n",
       "                        <td id=\"T_ec0412d5_c0ee_11ec_b25e_d8c49731ae33row0_col17\" class=\"data row0 col17\" >8</td>\n",
       "            </tr>\n",
       "            <tr>\n",
       "                        <th id=\"T_ec0412d5_c0ee_11ec_b25e_d8c49731ae33level0_row1\" class=\"row_heading level0 row1\" >1</th>\n",
       "                        <td id=\"T_ec0412d5_c0ee_11ec_b25e_d8c49731ae33row1_col0\" class=\"data row1 col0\" >12</td>\n",
       "                        <td id=\"T_ec0412d5_c0ee_11ec_b25e_d8c49731ae33row1_col1\" class=\"data row1 col1\" >0.61</td>\n",
       "                        <td id=\"T_ec0412d5_c0ee_11ec_b25e_d8c49731ae33row1_col2\" class=\"data row1 col2\" >0.3</td>\n",
       "                        <td id=\"T_ec0412d5_c0ee_11ec_b25e_d8c49731ae33row1_col3\" class=\"data row1 col3\" >0.051</td>\n",
       "                        <td id=\"T_ec0412d5_c0ee_11ec_b25e_d8c49731ae33row1_col4\" class=\"data row1 col4\" >2</td>\n",
       "                        <td id=\"T_ec0412d5_c0ee_11ec_b25e_d8c49731ae33row1_col5\" class=\"data row1 col5\" >0.6</td>\n",
       "                        <td id=\"T_ec0412d5_c0ee_11ec_b25e_d8c49731ae33row1_col6\" class=\"data row1 col6\" >0.6</td>\n",
       "                        <td id=\"T_ec0412d5_c0ee_11ec_b25e_d8c49731ae33row1_col7\" class=\"data row1 col7\" >0.6</td>\n",
       "                        <td id=\"T_ec0412d5_c0ee_11ec_b25e_d8c49731ae33row1_col8\" class=\"data row1 col8\" >0.6</td>\n",
       "                        <td id=\"T_ec0412d5_c0ee_11ec_b25e_d8c49731ae33row1_col9\" class=\"data row1 col9\" >0.59</td>\n",
       "                        <td id=\"T_ec0412d5_c0ee_11ec_b25e_d8c49731ae33row1_col10\" class=\"data row1 col10\" >0.61</td>\n",
       "                        <td id=\"T_ec0412d5_c0ee_11ec_b25e_d8c49731ae33row1_col11\" class=\"data row1 col11\" >0.6</td>\n",
       "                        <td id=\"T_ec0412d5_c0ee_11ec_b25e_d8c49731ae33row1_col12\" class=\"data row1 col12\" >0.61</td>\n",
       "                        <td id=\"T_ec0412d5_c0ee_11ec_b25e_d8c49731ae33row1_col13\" class=\"data row1 col13\" >0.61</td>\n",
       "                        <td id=\"T_ec0412d5_c0ee_11ec_b25e_d8c49731ae33row1_col14\" class=\"data row1 col14\" >0.6</td>\n",
       "                        <td id=\"T_ec0412d5_c0ee_11ec_b25e_d8c49731ae33row1_col15\" class=\"data row1 col15\" >0.6</td>\n",
       "                        <td id=\"T_ec0412d5_c0ee_11ec_b25e_d8c49731ae33row1_col16\" class=\"data row1 col16\" >0.0044</td>\n",
       "                        <td id=\"T_ec0412d5_c0ee_11ec_b25e_d8c49731ae33row1_col17\" class=\"data row1 col17\" >6</td>\n",
       "            </tr>\n",
       "            <tr>\n",
       "                        <th id=\"T_ec0412d5_c0ee_11ec_b25e_d8c49731ae33level0_row2\" class=\"row_heading level0 row2\" >2</th>\n",
       "                        <td id=\"T_ec0412d5_c0ee_11ec_b25e_d8c49731ae33row2_col0\" class=\"data row2 col0\" >13</td>\n",
       "                        <td id=\"T_ec0412d5_c0ee_11ec_b25e_d8c49731ae33row2_col1\" class=\"data row2 col1\" >0.86</td>\n",
       "                        <td id=\"T_ec0412d5_c0ee_11ec_b25e_d8c49731ae33row2_col2\" class=\"data row2 col2\" >0.36</td>\n",
       "                        <td id=\"T_ec0412d5_c0ee_11ec_b25e_d8c49731ae33row2_col3\" class=\"data row2 col3\" >0.073</td>\n",
       "                        <td id=\"T_ec0412d5_c0ee_11ec_b25e_d8c49731ae33row2_col4\" class=\"data row2 col4\" >5</td>\n",
       "                        <td id=\"T_ec0412d5_c0ee_11ec_b25e_d8c49731ae33row2_col5\" class=\"data row2 col5\" >0.66</td>\n",
       "                        <td id=\"T_ec0412d5_c0ee_11ec_b25e_d8c49731ae33row2_col6\" class=\"data row2 col6\" >0.66</td>\n",
       "                        <td id=\"T_ec0412d5_c0ee_11ec_b25e_d8c49731ae33row2_col7\" class=\"data row2 col7\" >0.67</td>\n",
       "                        <td id=\"T_ec0412d5_c0ee_11ec_b25e_d8c49731ae33row2_col8\" class=\"data row2 col8\" >0.65</td>\n",
       "                        <td id=\"T_ec0412d5_c0ee_11ec_b25e_d8c49731ae33row2_col9\" class=\"data row2 col9\" >0.66</td>\n",
       "                        <td id=\"T_ec0412d5_c0ee_11ec_b25e_d8c49731ae33row2_col10\" class=\"data row2 col10\" >0.66</td>\n",
       "                        <td id=\"T_ec0412d5_c0ee_11ec_b25e_d8c49731ae33row2_col11\" class=\"data row2 col11\" >0.66</td>\n",
       "                        <td id=\"T_ec0412d5_c0ee_11ec_b25e_d8c49731ae33row2_col12\" class=\"data row2 col12\" >0.66</td>\n",
       "                        <td id=\"T_ec0412d5_c0ee_11ec_b25e_d8c49731ae33row2_col13\" class=\"data row2 col13\" >0.66</td>\n",
       "                        <td id=\"T_ec0412d5_c0ee_11ec_b25e_d8c49731ae33row2_col14\" class=\"data row2 col14\" >0.66</td>\n",
       "                        <td id=\"T_ec0412d5_c0ee_11ec_b25e_d8c49731ae33row2_col15\" class=\"data row2 col15\" >0.66</td>\n",
       "                        <td id=\"T_ec0412d5_c0ee_11ec_b25e_d8c49731ae33row2_col16\" class=\"data row2 col16\" >0.0036</td>\n",
       "                        <td id=\"T_ec0412d5_c0ee_11ec_b25e_d8c49731ae33row2_col17\" class=\"data row2 col17\" >5</td>\n",
       "            </tr>\n",
       "            <tr>\n",
       "                        <th id=\"T_ec0412d5_c0ee_11ec_b25e_d8c49731ae33level0_row3\" class=\"row_heading level0 row3\" >3</th>\n",
       "                        <td id=\"T_ec0412d5_c0ee_11ec_b25e_d8c49731ae33row3_col0\" class=\"data row3 col0\" >15</td>\n",
       "                        <td id=\"T_ec0412d5_c0ee_11ec_b25e_d8c49731ae33row3_col1\" class=\"data row3 col1\" >0.77</td>\n",
       "                        <td id=\"T_ec0412d5_c0ee_11ec_b25e_d8c49731ae33row3_col2\" class=\"data row3 col2\" >0.38</td>\n",
       "                        <td id=\"T_ec0412d5_c0ee_11ec_b25e_d8c49731ae33row3_col3\" class=\"data row3 col3\" >0.044</td>\n",
       "                        <td id=\"T_ec0412d5_c0ee_11ec_b25e_d8c49731ae33row3_col4\" class=\"data row3 col4\" >10</td>\n",
       "                        <td id=\"T_ec0412d5_c0ee_11ec_b25e_d8c49731ae33row3_col5\" class=\"data row3 col5\" >0.67</td>\n",
       "                        <td id=\"T_ec0412d5_c0ee_11ec_b25e_d8c49731ae33row3_col6\" class=\"data row3 col6\" >0.68</td>\n",
       "                        <td id=\"T_ec0412d5_c0ee_11ec_b25e_d8c49731ae33row3_col7\" class=\"data row3 col7\" >0.67</td>\n",
       "                        <td id=\"T_ec0412d5_c0ee_11ec_b25e_d8c49731ae33row3_col8\" class=\"data row3 col8\" >0.66</td>\n",
       "                        <td id=\"T_ec0412d5_c0ee_11ec_b25e_d8c49731ae33row3_col9\" class=\"data row3 col9\" >0.67</td>\n",
       "                        <td id=\"T_ec0412d5_c0ee_11ec_b25e_d8c49731ae33row3_col10\" class=\"data row3 col10\" >0.67</td>\n",
       "                        <td id=\"T_ec0412d5_c0ee_11ec_b25e_d8c49731ae33row3_col11\" class=\"data row3 col11\" >0.67</td>\n",
       "                        <td id=\"T_ec0412d5_c0ee_11ec_b25e_d8c49731ae33row3_col12\" class=\"data row3 col12\" >0.67</td>\n",
       "                        <td id=\"T_ec0412d5_c0ee_11ec_b25e_d8c49731ae33row3_col13\" class=\"data row3 col13\" >0.67</td>\n",
       "                        <td id=\"T_ec0412d5_c0ee_11ec_b25e_d8c49731ae33row3_col14\" class=\"data row3 col14\" >0.67</td>\n",
       "                        <td id=\"T_ec0412d5_c0ee_11ec_b25e_d8c49731ae33row3_col15\" class=\"data row3 col15\" >0.67</td>\n",
       "                        <td id=\"T_ec0412d5_c0ee_11ec_b25e_d8c49731ae33row3_col16\" class=\"data row3 col16\" >0.0036</td>\n",
       "                        <td id=\"T_ec0412d5_c0ee_11ec_b25e_d8c49731ae33row3_col17\" class=\"data row3 col17\" >4</td>\n",
       "            </tr>\n",
       "            <tr>\n",
       "                        <th id=\"T_ec0412d5_c0ee_11ec_b25e_d8c49731ae33level0_row4\" class=\"row_heading level0 row4\" >4</th>\n",
       "                        <td id=\"T_ec0412d5_c0ee_11ec_b25e_d8c49731ae33row4_col0\" class=\"data row4 col0\" >18</td>\n",
       "                        <td id=\"T_ec0412d5_c0ee_11ec_b25e_d8c49731ae33row4_col1\" class=\"data row4 col1\" >1.3</td>\n",
       "                        <td id=\"T_ec0412d5_c0ee_11ec_b25e_d8c49731ae33row4_col2\" class=\"data row4 col2\" >0.45</td>\n",
       "                        <td id=\"T_ec0412d5_c0ee_11ec_b25e_d8c49731ae33row4_col3\" class=\"data row4 col3\" >0.075</td>\n",
       "                        <td id=\"T_ec0412d5_c0ee_11ec_b25e_d8c49731ae33row4_col4\" class=\"data row4 col4\" >20</td>\n",
       "                        <td id=\"T_ec0412d5_c0ee_11ec_b25e_d8c49731ae33row4_col5\" class=\"data row4 col5\" >0.7</td>\n",
       "                        <td id=\"T_ec0412d5_c0ee_11ec_b25e_d8c49731ae33row4_col6\" class=\"data row4 col6\" >0.71</td>\n",
       "                        <td id=\"T_ec0412d5_c0ee_11ec_b25e_d8c49731ae33row4_col7\" class=\"data row4 col7\" >0.7</td>\n",
       "                        <td id=\"T_ec0412d5_c0ee_11ec_b25e_d8c49731ae33row4_col8\" class=\"data row4 col8\" >0.69</td>\n",
       "                        <td id=\"T_ec0412d5_c0ee_11ec_b25e_d8c49731ae33row4_col9\" class=\"data row4 col9\" >0.7</td>\n",
       "                        <td id=\"T_ec0412d5_c0ee_11ec_b25e_d8c49731ae33row4_col10\" class=\"data row4 col10\" >0.7</td>\n",
       "                        <td id=\"T_ec0412d5_c0ee_11ec_b25e_d8c49731ae33row4_col11\" class=\"data row4 col11\" >0.7</td>\n",
       "                        <td id=\"T_ec0412d5_c0ee_11ec_b25e_d8c49731ae33row4_col12\" class=\"data row4 col12\" >0.7</td>\n",
       "                        <td id=\"T_ec0412d5_c0ee_11ec_b25e_d8c49731ae33row4_col13\" class=\"data row4 col13\" >0.69</td>\n",
       "                        <td id=\"T_ec0412d5_c0ee_11ec_b25e_d8c49731ae33row4_col14\" class=\"data row4 col14\" >0.7</td>\n",
       "                        <td id=\"T_ec0412d5_c0ee_11ec_b25e_d8c49731ae33row4_col15\" class=\"data row4 col15\" >0.7</td>\n",
       "                        <td id=\"T_ec0412d5_c0ee_11ec_b25e_d8c49731ae33row4_col16\" class=\"data row4 col16\" >0.0048</td>\n",
       "                        <td id=\"T_ec0412d5_c0ee_11ec_b25e_d8c49731ae33row4_col17\" class=\"data row4 col17\" >1</td>\n",
       "            </tr>\n",
       "            <tr>\n",
       "                        <th id=\"T_ec0412d5_c0ee_11ec_b25e_d8c49731ae33level0_row5\" class=\"row_heading level0 row5\" >5</th>\n",
       "                        <td id=\"T_ec0412d5_c0ee_11ec_b25e_d8c49731ae33row5_col0\" class=\"data row5 col0\" >21</td>\n",
       "                        <td id=\"T_ec0412d5_c0ee_11ec_b25e_d8c49731ae33row5_col1\" class=\"data row5 col1\" >1.1</td>\n",
       "                        <td id=\"T_ec0412d5_c0ee_11ec_b25e_d8c49731ae33row5_col2\" class=\"data row5 col2\" >0.49</td>\n",
       "                        <td id=\"T_ec0412d5_c0ee_11ec_b25e_d8c49731ae33row5_col3\" class=\"data row5 col3\" >0.11</td>\n",
       "                        <td id=\"T_ec0412d5_c0ee_11ec_b25e_d8c49731ae33row5_col4\" class=\"data row5 col4\" >30</td>\n",
       "                        <td id=\"T_ec0412d5_c0ee_11ec_b25e_d8c49731ae33row5_col5\" class=\"data row5 col5\" >0.67</td>\n",
       "                        <td id=\"T_ec0412d5_c0ee_11ec_b25e_d8c49731ae33row5_col6\" class=\"data row5 col6\" >0.68</td>\n",
       "                        <td id=\"T_ec0412d5_c0ee_11ec_b25e_d8c49731ae33row5_col7\" class=\"data row5 col7\" >0.68</td>\n",
       "                        <td id=\"T_ec0412d5_c0ee_11ec_b25e_d8c49731ae33row5_col8\" class=\"data row5 col8\" >0.67</td>\n",
       "                        <td id=\"T_ec0412d5_c0ee_11ec_b25e_d8c49731ae33row5_col9\" class=\"data row5 col9\" >0.66</td>\n",
       "                        <td id=\"T_ec0412d5_c0ee_11ec_b25e_d8c49731ae33row5_col10\" class=\"data row5 col10\" >0.68</td>\n",
       "                        <td id=\"T_ec0412d5_c0ee_11ec_b25e_d8c49731ae33row5_col11\" class=\"data row5 col11\" >0.68</td>\n",
       "                        <td id=\"T_ec0412d5_c0ee_11ec_b25e_d8c49731ae33row5_col12\" class=\"data row5 col12\" >0.67</td>\n",
       "                        <td id=\"T_ec0412d5_c0ee_11ec_b25e_d8c49731ae33row5_col13\" class=\"data row5 col13\" >0.66</td>\n",
       "                        <td id=\"T_ec0412d5_c0ee_11ec_b25e_d8c49731ae33row5_col14\" class=\"data row5 col14\" >0.69</td>\n",
       "                        <td id=\"T_ec0412d5_c0ee_11ec_b25e_d8c49731ae33row5_col15\" class=\"data row5 col15\" >0.67</td>\n",
       "                        <td id=\"T_ec0412d5_c0ee_11ec_b25e_d8c49731ae33row5_col16\" class=\"data row5 col16\" >0.0086</td>\n",
       "                        <td id=\"T_ec0412d5_c0ee_11ec_b25e_d8c49731ae33row5_col17\" class=\"data row5 col17\" >2</td>\n",
       "            </tr>\n",
       "            <tr>\n",
       "                        <th id=\"T_ec0412d5_c0ee_11ec_b25e_d8c49731ae33level0_row6\" class=\"row_heading level0 row6\" >6</th>\n",
       "                        <td id=\"T_ec0412d5_c0ee_11ec_b25e_d8c49731ae33row6_col0\" class=\"data row6 col0\" >22</td>\n",
       "                        <td id=\"T_ec0412d5_c0ee_11ec_b25e_d8c49731ae33row6_col1\" class=\"data row6 col1\" >1</td>\n",
       "                        <td id=\"T_ec0412d5_c0ee_11ec_b25e_d8c49731ae33row6_col2\" class=\"data row6 col2\" >0.48</td>\n",
       "                        <td id=\"T_ec0412d5_c0ee_11ec_b25e_d8c49731ae33row6_col3\" class=\"data row6 col3\" >0.13</td>\n",
       "                        <td id=\"T_ec0412d5_c0ee_11ec_b25e_d8c49731ae33row6_col4\" class=\"data row6 col4\" >40</td>\n",
       "                        <td id=\"T_ec0412d5_c0ee_11ec_b25e_d8c49731ae33row6_col5\" class=\"data row6 col5\" >0.66</td>\n",
       "                        <td id=\"T_ec0412d5_c0ee_11ec_b25e_d8c49731ae33row6_col6\" class=\"data row6 col6\" >0.69</td>\n",
       "                        <td id=\"T_ec0412d5_c0ee_11ec_b25e_d8c49731ae33row6_col7\" class=\"data row6 col7\" >0.67</td>\n",
       "                        <td id=\"T_ec0412d5_c0ee_11ec_b25e_d8c49731ae33row6_col8\" class=\"data row6 col8\" >0.67</td>\n",
       "                        <td id=\"T_ec0412d5_c0ee_11ec_b25e_d8c49731ae33row6_col9\" class=\"data row6 col9\" >0.66</td>\n",
       "                        <td id=\"T_ec0412d5_c0ee_11ec_b25e_d8c49731ae33row6_col10\" class=\"data row6 col10\" >0.68</td>\n",
       "                        <td id=\"T_ec0412d5_c0ee_11ec_b25e_d8c49731ae33row6_col11\" class=\"data row6 col11\" >0.68</td>\n",
       "                        <td id=\"T_ec0412d5_c0ee_11ec_b25e_d8c49731ae33row6_col12\" class=\"data row6 col12\" >0.65</td>\n",
       "                        <td id=\"T_ec0412d5_c0ee_11ec_b25e_d8c49731ae33row6_col13\" class=\"data row6 col13\" >0.65</td>\n",
       "                        <td id=\"T_ec0412d5_c0ee_11ec_b25e_d8c49731ae33row6_col14\" class=\"data row6 col14\" >0.69</td>\n",
       "                        <td id=\"T_ec0412d5_c0ee_11ec_b25e_d8c49731ae33row6_col15\" class=\"data row6 col15\" >0.67</td>\n",
       "                        <td id=\"T_ec0412d5_c0ee_11ec_b25e_d8c49731ae33row6_col16\" class=\"data row6 col16\" >0.013</td>\n",
       "                        <td id=\"T_ec0412d5_c0ee_11ec_b25e_d8c49731ae33row6_col17\" class=\"data row6 col17\" >3</td>\n",
       "            </tr>\n",
       "            <tr>\n",
       "                        <th id=\"T_ec0412d5_c0ee_11ec_b25e_d8c49731ae33level0_row7\" class=\"row_heading level0 row7\" >7</th>\n",
       "                        <td id=\"T_ec0412d5_c0ee_11ec_b25e_d8c49731ae33row7_col0\" class=\"data row7 col0\" >28</td>\n",
       "                        <td id=\"T_ec0412d5_c0ee_11ec_b25e_d8c49731ae33row7_col1\" class=\"data row7 col1\" >2.4</td>\n",
       "                        <td id=\"T_ec0412d5_c0ee_11ec_b25e_d8c49731ae33row7_col2\" class=\"data row7 col2\" >0.57</td>\n",
       "                        <td id=\"T_ec0412d5_c0ee_11ec_b25e_d8c49731ae33row7_col3\" class=\"data row7 col3\" >0.16</td>\n",
       "                        <td id=\"T_ec0412d5_c0ee_11ec_b25e_d8c49731ae33row7_col4\" class=\"data row7 col4\" >60</td>\n",
       "                        <td id=\"T_ec0412d5_c0ee_11ec_b25e_d8c49731ae33row7_col5\" class=\"data row7 col5\" >0.63</td>\n",
       "                        <td id=\"T_ec0412d5_c0ee_11ec_b25e_d8c49731ae33row7_col6\" class=\"data row7 col6\" >0.57</td>\n",
       "                        <td id=\"T_ec0412d5_c0ee_11ec_b25e_d8c49731ae33row7_col7\" class=\"data row7 col7\" >0.58</td>\n",
       "                        <td id=\"T_ec0412d5_c0ee_11ec_b25e_d8c49731ae33row7_col8\" class=\"data row7 col8\" >0.57</td>\n",
       "                        <td id=\"T_ec0412d5_c0ee_11ec_b25e_d8c49731ae33row7_col9\" class=\"data row7 col9\" >0.64</td>\n",
       "                        <td id=\"T_ec0412d5_c0ee_11ec_b25e_d8c49731ae33row7_col10\" class=\"data row7 col10\" >0.58</td>\n",
       "                        <td id=\"T_ec0412d5_c0ee_11ec_b25e_d8c49731ae33row7_col11\" class=\"data row7 col11\" >0.59</td>\n",
       "                        <td id=\"T_ec0412d5_c0ee_11ec_b25e_d8c49731ae33row7_col12\" class=\"data row7 col12\" >0.6</td>\n",
       "                        <td id=\"T_ec0412d5_c0ee_11ec_b25e_d8c49731ae33row7_col13\" class=\"data row7 col13\" >0.6</td>\n",
       "                        <td id=\"T_ec0412d5_c0ee_11ec_b25e_d8c49731ae33row7_col14\" class=\"data row7 col14\" >0.56</td>\n",
       "                        <td id=\"T_ec0412d5_c0ee_11ec_b25e_d8c49731ae33row7_col15\" class=\"data row7 col15\" >0.59</td>\n",
       "                        <td id=\"T_ec0412d5_c0ee_11ec_b25e_d8c49731ae33row7_col16\" class=\"data row7 col16\" >0.025</td>\n",
       "                        <td id=\"T_ec0412d5_c0ee_11ec_b25e_d8c49731ae33row7_col17\" class=\"data row7 col17\" >7</td>\n",
       "            </tr>\n",
       "    </tbody></table>"
      ],
      "text/plain": [
       "<pandas.io.formats.style.Styler at 0x1473cb11280>"
      ]
     },
     "execution_count": 55,
     "metadata": {},
     "output_type": "execute_result"
    }
   ],
   "source": [
    "cv_results_df = pd.DataFrame(search.cv_results_).drop(columns=\"params\")\n",
    "\n",
    "cv_results_df.style.format(\"{:.2g}\")"
   ]
  },
  {
   "cell_type": "code",
   "execution_count": 56,
   "metadata": {
    "id": "lLPoOd4CmK-N"
   },
   "outputs": [
    {
     "data": {
      "image/png": "[encoded data removed]",
      "text/plain": [
       "<Figure size 432x288 with 1 Axes>"
      ]
     },
     "metadata": {
      "image/png": {
       "height": 248,
       "width": 372
      },
      "needs_background": "light"
     },
     "output_type": "display_data"
    }
   ],
   "source": [
    "plt.bar(\n",
    "    cv_results_df[\"param_pca__n_components\"],\n",
    "    cv_results_df[\"mean_test_score\"],\n",
    "    yerr=2 * cv_results_df[\"std_test_score\"],\n",
    "    width=0.8 * np.diff(cv_results_df[\"param_pca__n_components\"], prepend=0),\n",
    ")\n",
    "plt.show()"
   ]
  },
  {
   "cell_type": "markdown",
   "metadata": {},
   "source": [
    "La meilleure pac semble etre celle à 20 dimensions. Cet hyperparamètre est fixé. La validation croisé à dix itération permet de s'assurer de la fiabilité du résultat."
   ]
  },
  {
   "cell_type": "code",
   "execution_count": 76,
   "metadata": {},
   "outputs": [],
   "source": [
    "param_grid = {\"model__max_iter\": [1, 10, 100, 1000]}"
   ]
  },
  {
   "cell_type": "code",
   "execution_count": 60,
   "metadata": {},
   "outputs": [],
   "source": [
    "scaler = preprocessing.StandardScaler()\n",
    "pca = decomposition.PCA(n_components=20)\n",
    "ros = RandomOverSampler()\n",
    "model = linear_model.LogisticRegression()\n",
    "# test of the utilitie of the hyperparameter max_iter\n",
    "\n",
    "pipe = pipeline.Pipeline(steps=[(\"scaler\", scaler), (\"pca\", pca), (\"model\", model)])"
   ]
  },
  {
   "cell_type": "code",
   "execution_count": 61,
   "metadata": {},
   "outputs": [
    {
     "name": "stdout",
     "output_type": "stream",
     "text": [
      "Fitting 10 folds for each of 6 candidates, totalling 60 fits\n"
     ]
    },
    {
     "name": "stderr",
     "output_type": "stream",
     "text": [
      "[Parallel(n_jobs=-1)]: Using backend LokyBackend with 4 concurrent workers.\n",
      "[Parallel(n_jobs=-1)]: Done  17 tasks      | elapsed:  3.7min\n",
      "[Parallel(n_jobs=-1)]: Done  60 out of  60 | elapsed: 13.6min finished\n"
     ]
    },
    {
     "data": {
      "text/plain": [
       "GridSearchCV(cv=10,\n",
       "             estimator=Pipeline(steps=[('scaler', StandardScaler()),\n",
       "                                       ('pca', PCA()),\n",
       "                                       ('model', LogisticRegression())]),\n",
       "             n_jobs=-1,\n",
       "             param_grid={'model__max_iter': [1, 10, 100, 1000, 10000, 20000]},\n",
       "             scoring='balanced_accuracy', verbose=4)"
      ]
     },
     "execution_count": 61,
     "metadata": {},
     "output_type": "execute_result"
    }
   ],
   "source": [
    "search = model_selection.GridSearchCV(\n",
    "    pipe, param_grid, n_jobs=-1, scoring=SCORING, verbose=4, cv=CV\n",
    ")\n",
    "\n",
    "search.fit(x_resampled, y_resampled)"
   ]
  },
  {
   "cell_type": "code",
   "execution_count": 62,
   "metadata": {},
   "outputs": [
    {
     "name": "stdout",
     "output_type": "stream",
     "text": [
      "Best parameter (CV score: 0.768)\n",
      "{'model__max_iter': 100}\n"
     ]
    }
   ],
   "source": [
    "print(f\"Best parameter (CV score: {search.best_score_:.3f})\")\n",
    "\n",
    "print(search.best_params_)"
   ]
  },
  {
   "cell_type": "code",
   "execution_count": 63,
   "metadata": {},
   "outputs": [
    {
     "data": {
      "text/html": [
       "<style  type=\"text/css\" >\n",
       "</style><table id=\"T_87c8d79e_c0f1_11ec_b376_d8c49731ae33\" ><thead>    <tr>        <th class=\"blank level0\" ></th>        <th class=\"col_heading level0 col0\" >mean_fit_time</th>        <th class=\"col_heading level0 col1\" >std_fit_time</th>        <th class=\"col_heading level0 col2\" >mean_score_time</th>        <th class=\"col_heading level0 col3\" >std_score_time</th>        <th class=\"col_heading level0 col4\" >param_model__max_iter</th>        <th class=\"col_heading level0 col5\" >split0_test_score</th>        <th class=\"col_heading level0 col6\" >split1_test_score</th>        <th class=\"col_heading level0 col7\" >split2_test_score</th>        <th class=\"col_heading level0 col8\" >split3_test_score</th>        <th class=\"col_heading level0 col9\" >split4_test_score</th>        <th class=\"col_heading level0 col10\" >split5_test_score</th>        <th class=\"col_heading level0 col11\" >split6_test_score</th>        <th class=\"col_heading level0 col12\" >split7_test_score</th>        <th class=\"col_heading level0 col13\" >split8_test_score</th>        <th class=\"col_heading level0 col14\" >split9_test_score</th>        <th class=\"col_heading level0 col15\" >mean_test_score</th>        <th class=\"col_heading level0 col16\" >std_test_score</th>        <th class=\"col_heading level0 col17\" >rank_test_score</th>    </tr></thead><tbody>\n",
       "                <tr>\n",
       "                        <th id=\"T_87c8d79e_c0f1_11ec_b376_d8c49731ae33level0_row0\" class=\"row_heading level0 row0\" >0</th>\n",
       "                        <td id=\"T_87c8d79e_c0f1_11ec_b376_d8c49731ae33row0_col0\" class=\"data row0 col0\" >37</td>\n",
       "                        <td id=\"T_87c8d79e_c0f1_11ec_b376_d8c49731ae33row0_col1\" class=\"data row0 col1\" >5.4</td>\n",
       "                        <td id=\"T_87c8d79e_c0f1_11ec_b376_d8c49731ae33row0_col2\" class=\"data row0 col2\" >0.77</td>\n",
       "                        <td id=\"T_87c8d79e_c0f1_11ec_b376_d8c49731ae33row0_col3\" class=\"data row0 col3\" >0.31</td>\n",
       "                        <td id=\"T_87c8d79e_c0f1_11ec_b376_d8c49731ae33row0_col4\" class=\"data row0 col4\" >1</td>\n",
       "                        <td id=\"T_87c8d79e_c0f1_11ec_b376_d8c49731ae33row0_col5\" class=\"data row0 col5\" >0.69</td>\n",
       "                        <td id=\"T_87c8d79e_c0f1_11ec_b376_d8c49731ae33row0_col6\" class=\"data row0 col6\" >0.69</td>\n",
       "                        <td id=\"T_87c8d79e_c0f1_11ec_b376_d8c49731ae33row0_col7\" class=\"data row0 col7\" >0.69</td>\n",
       "                        <td id=\"T_87c8d79e_c0f1_11ec_b376_d8c49731ae33row0_col8\" class=\"data row0 col8\" >0.68</td>\n",
       "                        <td id=\"T_87c8d79e_c0f1_11ec_b376_d8c49731ae33row0_col9\" class=\"data row0 col9\" >0.69</td>\n",
       "                        <td id=\"T_87c8d79e_c0f1_11ec_b376_d8c49731ae33row0_col10\" class=\"data row0 col10\" >0.7</td>\n",
       "                        <td id=\"T_87c8d79e_c0f1_11ec_b376_d8c49731ae33row0_col11\" class=\"data row0 col11\" >0.69</td>\n",
       "                        <td id=\"T_87c8d79e_c0f1_11ec_b376_d8c49731ae33row0_col12\" class=\"data row0 col12\" >0.69</td>\n",
       "                        <td id=\"T_87c8d79e_c0f1_11ec_b376_d8c49731ae33row0_col13\" class=\"data row0 col13\" >0.69</td>\n",
       "                        <td id=\"T_87c8d79e_c0f1_11ec_b376_d8c49731ae33row0_col14\" class=\"data row0 col14\" >0.69</td>\n",
       "                        <td id=\"T_87c8d79e_c0f1_11ec_b376_d8c49731ae33row0_col15\" class=\"data row0 col15\" >0.69</td>\n",
       "                        <td id=\"T_87c8d79e_c0f1_11ec_b376_d8c49731ae33row0_col16\" class=\"data row0 col16\" >0.0035</td>\n",
       "                        <td id=\"T_87c8d79e_c0f1_11ec_b376_d8c49731ae33row0_col17\" class=\"data row0 col17\" >6</td>\n",
       "            </tr>\n",
       "            <tr>\n",
       "                        <th id=\"T_87c8d79e_c0f1_11ec_b376_d8c49731ae33level0_row1\" class=\"row_heading level0 row1\" >1</th>\n",
       "                        <td id=\"T_87c8d79e_c0f1_11ec_b376_d8c49731ae33row1_col0\" class=\"data row1 col0\" >46</td>\n",
       "                        <td id=\"T_87c8d79e_c0f1_11ec_b376_d8c49731ae33row1_col1\" class=\"data row1 col1\" >3.4</td>\n",
       "                        <td id=\"T_87c8d79e_c0f1_11ec_b376_d8c49731ae33row1_col2\" class=\"data row1 col2\" >3.9</td>\n",
       "                        <td id=\"T_87c8d79e_c0f1_11ec_b376_d8c49731ae33row1_col3\" class=\"data row1 col3\" >7</td>\n",
       "                        <td id=\"T_87c8d79e_c0f1_11ec_b376_d8c49731ae33row1_col4\" class=\"data row1 col4\" >10</td>\n",
       "                        <td id=\"T_87c8d79e_c0f1_11ec_b376_d8c49731ae33row1_col5\" class=\"data row1 col5\" >0.76</td>\n",
       "                        <td id=\"T_87c8d79e_c0f1_11ec_b376_d8c49731ae33row1_col6\" class=\"data row1 col6\" >0.77</td>\n",
       "                        <td id=\"T_87c8d79e_c0f1_11ec_b376_d8c49731ae33row1_col7\" class=\"data row1 col7\" >0.77</td>\n",
       "                        <td id=\"T_87c8d79e_c0f1_11ec_b376_d8c49731ae33row1_col8\" class=\"data row1 col8\" >0.77</td>\n",
       "                        <td id=\"T_87c8d79e_c0f1_11ec_b376_d8c49731ae33row1_col9\" class=\"data row1 col9\" >0.76</td>\n",
       "                        <td id=\"T_87c8d79e_c0f1_11ec_b376_d8c49731ae33row1_col10\" class=\"data row1 col10\" >0.77</td>\n",
       "                        <td id=\"T_87c8d79e_c0f1_11ec_b376_d8c49731ae33row1_col11\" class=\"data row1 col11\" >0.76</td>\n",
       "                        <td id=\"T_87c8d79e_c0f1_11ec_b376_d8c49731ae33row1_col12\" class=\"data row1 col12\" >0.77</td>\n",
       "                        <td id=\"T_87c8d79e_c0f1_11ec_b376_d8c49731ae33row1_col13\" class=\"data row1 col13\" >0.76</td>\n",
       "                        <td id=\"T_87c8d79e_c0f1_11ec_b376_d8c49731ae33row1_col14\" class=\"data row1 col14\" >0.77</td>\n",
       "                        <td id=\"T_87c8d79e_c0f1_11ec_b376_d8c49731ae33row1_col15\" class=\"data row1 col15\" >0.77</td>\n",
       "                        <td id=\"T_87c8d79e_c0f1_11ec_b376_d8c49731ae33row1_col16\" class=\"data row1 col16\" >0.0029</td>\n",
       "                        <td id=\"T_87c8d79e_c0f1_11ec_b376_d8c49731ae33row1_col17\" class=\"data row1 col17\" >5</td>\n",
       "            </tr>\n",
       "            <tr>\n",
       "                        <th id=\"T_87c8d79e_c0f1_11ec_b376_d8c49731ae33level0_row2\" class=\"row_heading level0 row2\" >2</th>\n",
       "                        <td id=\"T_87c8d79e_c0f1_11ec_b376_d8c49731ae33row2_col0\" class=\"data row2 col0\" >69</td>\n",
       "                        <td id=\"T_87c8d79e_c0f1_11ec_b376_d8c49731ae33row2_col1\" class=\"data row2 col1\" >5.3</td>\n",
       "                        <td id=\"T_87c8d79e_c0f1_11ec_b376_d8c49731ae33row2_col2\" class=\"data row2 col2\" >0.72</td>\n",
       "                        <td id=\"T_87c8d79e_c0f1_11ec_b376_d8c49731ae33row2_col3\" class=\"data row2 col3\" >0.065</td>\n",
       "                        <td id=\"T_87c8d79e_c0f1_11ec_b376_d8c49731ae33row2_col4\" class=\"data row2 col4\" >1e+02</td>\n",
       "                        <td id=\"T_87c8d79e_c0f1_11ec_b376_d8c49731ae33row2_col5\" class=\"data row2 col5\" >0.77</td>\n",
       "                        <td id=\"T_87c8d79e_c0f1_11ec_b376_d8c49731ae33row2_col6\" class=\"data row2 col6\" >0.77</td>\n",
       "                        <td id=\"T_87c8d79e_c0f1_11ec_b376_d8c49731ae33row2_col7\" class=\"data row2 col7\" >0.77</td>\n",
       "                        <td id=\"T_87c8d79e_c0f1_11ec_b376_d8c49731ae33row2_col8\" class=\"data row2 col8\" >0.77</td>\n",
       "                        <td id=\"T_87c8d79e_c0f1_11ec_b376_d8c49731ae33row2_col9\" class=\"data row2 col9\" >0.76</td>\n",
       "                        <td id=\"T_87c8d79e_c0f1_11ec_b376_d8c49731ae33row2_col10\" class=\"data row2 col10\" >0.77</td>\n",
       "                        <td id=\"T_87c8d79e_c0f1_11ec_b376_d8c49731ae33row2_col11\" class=\"data row2 col11\" >0.77</td>\n",
       "                        <td id=\"T_87c8d79e_c0f1_11ec_b376_d8c49731ae33row2_col12\" class=\"data row2 col12\" >0.77</td>\n",
       "                        <td id=\"T_87c8d79e_c0f1_11ec_b376_d8c49731ae33row2_col13\" class=\"data row2 col13\" >0.77</td>\n",
       "                        <td id=\"T_87c8d79e_c0f1_11ec_b376_d8c49731ae33row2_col14\" class=\"data row2 col14\" >0.77</td>\n",
       "                        <td id=\"T_87c8d79e_c0f1_11ec_b376_d8c49731ae33row2_col15\" class=\"data row2 col15\" >0.77</td>\n",
       "                        <td id=\"T_87c8d79e_c0f1_11ec_b376_d8c49731ae33row2_col16\" class=\"data row2 col16\" >0.0019</td>\n",
       "                        <td id=\"T_87c8d79e_c0f1_11ec_b376_d8c49731ae33row2_col17\" class=\"data row2 col17\" >1</td>\n",
       "            </tr>\n",
       "            <tr>\n",
       "                        <th id=\"T_87c8d79e_c0f1_11ec_b376_d8c49731ae33level0_row3\" class=\"row_heading level0 row3\" >3</th>\n",
       "                        <td id=\"T_87c8d79e_c0f1_11ec_b376_d8c49731ae33row3_col0\" class=\"data row3 col0\" >56</td>\n",
       "                        <td id=\"T_87c8d79e_c0f1_11ec_b376_d8c49731ae33row3_col1\" class=\"data row3 col1\" >13</td>\n",
       "                        <td id=\"T_87c8d79e_c0f1_11ec_b376_d8c49731ae33row3_col2\" class=\"data row3 col2\" >2.1</td>\n",
       "                        <td id=\"T_87c8d79e_c0f1_11ec_b376_d8c49731ae33row3_col3\" class=\"data row3 col3\" >1.8</td>\n",
       "                        <td id=\"T_87c8d79e_c0f1_11ec_b376_d8c49731ae33row3_col4\" class=\"data row3 col4\" >1e+03</td>\n",
       "                        <td id=\"T_87c8d79e_c0f1_11ec_b376_d8c49731ae33row3_col5\" class=\"data row3 col5\" >0.77</td>\n",
       "                        <td id=\"T_87c8d79e_c0f1_11ec_b376_d8c49731ae33row3_col6\" class=\"data row3 col6\" >0.77</td>\n",
       "                        <td id=\"T_87c8d79e_c0f1_11ec_b376_d8c49731ae33row3_col7\" class=\"data row3 col7\" >0.77</td>\n",
       "                        <td id=\"T_87c8d79e_c0f1_11ec_b376_d8c49731ae33row3_col8\" class=\"data row3 col8\" >0.77</td>\n",
       "                        <td id=\"T_87c8d79e_c0f1_11ec_b376_d8c49731ae33row3_col9\" class=\"data row3 col9\" >0.76</td>\n",
       "                        <td id=\"T_87c8d79e_c0f1_11ec_b376_d8c49731ae33row3_col10\" class=\"data row3 col10\" >0.77</td>\n",
       "                        <td id=\"T_87c8d79e_c0f1_11ec_b376_d8c49731ae33row3_col11\" class=\"data row3 col11\" >0.77</td>\n",
       "                        <td id=\"T_87c8d79e_c0f1_11ec_b376_d8c49731ae33row3_col12\" class=\"data row3 col12\" >0.77</td>\n",
       "                        <td id=\"T_87c8d79e_c0f1_11ec_b376_d8c49731ae33row3_col13\" class=\"data row3 col13\" >0.77</td>\n",
       "                        <td id=\"T_87c8d79e_c0f1_11ec_b376_d8c49731ae33row3_col14\" class=\"data row3 col14\" >0.77</td>\n",
       "                        <td id=\"T_87c8d79e_c0f1_11ec_b376_d8c49731ae33row3_col15\" class=\"data row3 col15\" >0.77</td>\n",
       "                        <td id=\"T_87c8d79e_c0f1_11ec_b376_d8c49731ae33row3_col16\" class=\"data row3 col16\" >0.0019</td>\n",
       "                        <td id=\"T_87c8d79e_c0f1_11ec_b376_d8c49731ae33row3_col17\" class=\"data row3 col17\" >1</td>\n",
       "            </tr>\n",
       "            <tr>\n",
       "                        <th id=\"T_87c8d79e_c0f1_11ec_b376_d8c49731ae33level0_row4\" class=\"row_heading level0 row4\" >4</th>\n",
       "                        <td id=\"T_87c8d79e_c0f1_11ec_b376_d8c49731ae33row4_col0\" class=\"data row4 col0\" >52</td>\n",
       "                        <td id=\"T_87c8d79e_c0f1_11ec_b376_d8c49731ae33row4_col1\" class=\"data row4 col1\" >5</td>\n",
       "                        <td id=\"T_87c8d79e_c0f1_11ec_b376_d8c49731ae33row4_col2\" class=\"data row4 col2\" >1</td>\n",
       "                        <td id=\"T_87c8d79e_c0f1_11ec_b376_d8c49731ae33row4_col3\" class=\"data row4 col3\" >0.4</td>\n",
       "                        <td id=\"T_87c8d79e_c0f1_11ec_b376_d8c49731ae33row4_col4\" class=\"data row4 col4\" >1e+04</td>\n",
       "                        <td id=\"T_87c8d79e_c0f1_11ec_b376_d8c49731ae33row4_col5\" class=\"data row4 col5\" >0.77</td>\n",
       "                        <td id=\"T_87c8d79e_c0f1_11ec_b376_d8c49731ae33row4_col6\" class=\"data row4 col6\" >0.77</td>\n",
       "                        <td id=\"T_87c8d79e_c0f1_11ec_b376_d8c49731ae33row4_col7\" class=\"data row4 col7\" >0.77</td>\n",
       "                        <td id=\"T_87c8d79e_c0f1_11ec_b376_d8c49731ae33row4_col8\" class=\"data row4 col8\" >0.77</td>\n",
       "                        <td id=\"T_87c8d79e_c0f1_11ec_b376_d8c49731ae33row4_col9\" class=\"data row4 col9\" >0.76</td>\n",
       "                        <td id=\"T_87c8d79e_c0f1_11ec_b376_d8c49731ae33row4_col10\" class=\"data row4 col10\" >0.77</td>\n",
       "                        <td id=\"T_87c8d79e_c0f1_11ec_b376_d8c49731ae33row4_col11\" class=\"data row4 col11\" >0.77</td>\n",
       "                        <td id=\"T_87c8d79e_c0f1_11ec_b376_d8c49731ae33row4_col12\" class=\"data row4 col12\" >0.77</td>\n",
       "                        <td id=\"T_87c8d79e_c0f1_11ec_b376_d8c49731ae33row4_col13\" class=\"data row4 col13\" >0.77</td>\n",
       "                        <td id=\"T_87c8d79e_c0f1_11ec_b376_d8c49731ae33row4_col14\" class=\"data row4 col14\" >0.77</td>\n",
       "                        <td id=\"T_87c8d79e_c0f1_11ec_b376_d8c49731ae33row4_col15\" class=\"data row4 col15\" >0.77</td>\n",
       "                        <td id=\"T_87c8d79e_c0f1_11ec_b376_d8c49731ae33row4_col16\" class=\"data row4 col16\" >0.0019</td>\n",
       "                        <td id=\"T_87c8d79e_c0f1_11ec_b376_d8c49731ae33row4_col17\" class=\"data row4 col17\" >1</td>\n",
       "            </tr>\n",
       "            <tr>\n",
       "                        <th id=\"T_87c8d79e_c0f1_11ec_b376_d8c49731ae33level0_row5\" class=\"row_heading level0 row5\" >5</th>\n",
       "                        <td id=\"T_87c8d79e_c0f1_11ec_b376_d8c49731ae33row5_col0\" class=\"data row5 col0\" >47</td>\n",
       "                        <td id=\"T_87c8d79e_c0f1_11ec_b376_d8c49731ae33row5_col1\" class=\"data row5 col1\" >11</td>\n",
       "                        <td id=\"T_87c8d79e_c0f1_11ec_b376_d8c49731ae33row5_col2\" class=\"data row5 col2\" >2.4</td>\n",
       "                        <td id=\"T_87c8d79e_c0f1_11ec_b376_d8c49731ae33row5_col3\" class=\"data row5 col3\" >2</td>\n",
       "                        <td id=\"T_87c8d79e_c0f1_11ec_b376_d8c49731ae33row5_col4\" class=\"data row5 col4\" >2e+04</td>\n",
       "                        <td id=\"T_87c8d79e_c0f1_11ec_b376_d8c49731ae33row5_col5\" class=\"data row5 col5\" >0.77</td>\n",
       "                        <td id=\"T_87c8d79e_c0f1_11ec_b376_d8c49731ae33row5_col6\" class=\"data row5 col6\" >0.77</td>\n",
       "                        <td id=\"T_87c8d79e_c0f1_11ec_b376_d8c49731ae33row5_col7\" class=\"data row5 col7\" >0.77</td>\n",
       "                        <td id=\"T_87c8d79e_c0f1_11ec_b376_d8c49731ae33row5_col8\" class=\"data row5 col8\" >0.77</td>\n",
       "                        <td id=\"T_87c8d79e_c0f1_11ec_b376_d8c49731ae33row5_col9\" class=\"data row5 col9\" >0.76</td>\n",
       "                        <td id=\"T_87c8d79e_c0f1_11ec_b376_d8c49731ae33row5_col10\" class=\"data row5 col10\" >0.77</td>\n",
       "                        <td id=\"T_87c8d79e_c0f1_11ec_b376_d8c49731ae33row5_col11\" class=\"data row5 col11\" >0.77</td>\n",
       "                        <td id=\"T_87c8d79e_c0f1_11ec_b376_d8c49731ae33row5_col12\" class=\"data row5 col12\" >0.77</td>\n",
       "                        <td id=\"T_87c8d79e_c0f1_11ec_b376_d8c49731ae33row5_col13\" class=\"data row5 col13\" >0.77</td>\n",
       "                        <td id=\"T_87c8d79e_c0f1_11ec_b376_d8c49731ae33row5_col14\" class=\"data row5 col14\" >0.77</td>\n",
       "                        <td id=\"T_87c8d79e_c0f1_11ec_b376_d8c49731ae33row5_col15\" class=\"data row5 col15\" >0.77</td>\n",
       "                        <td id=\"T_87c8d79e_c0f1_11ec_b376_d8c49731ae33row5_col16\" class=\"data row5 col16\" >0.0019</td>\n",
       "                        <td id=\"T_87c8d79e_c0f1_11ec_b376_d8c49731ae33row5_col17\" class=\"data row5 col17\" >1</td>\n",
       "            </tr>\n",
       "    </tbody></table>"
      ],
      "text/plain": [
       "<pandas.io.formats.style.Styler at 0x147436792b0>"
      ]
     },
     "execution_count": 63,
     "metadata": {},
     "output_type": "execute_result"
    }
   ],
   "source": [
    "cv_results_df = pd.DataFrame(search.cv_results_).drop(columns=\"params\")\n",
    "\n",
    "cv_results_df.style.format(\"{:.2g}\")"
   ]
  },
  {
   "cell_type": "code",
   "execution_count": 75,
   "metadata": {},
   "outputs": [
    {
     "data": {
      "image/png": "[encoded data removed]",
      "text/plain": [
       "<Figure size 432x288 with 1 Axes>"
      ]
     },
     "metadata": {
      "image/png": {
       "height": 249,
       "width": 372
      },
      "needs_background": "light"
     },
     "output_type": "display_data"
    }
   ],
   "source": [
    "plt.bar(\n",
    "    cv_results_df[\"param_model__max_iter\"],\n",
    "    cv_results_df[\"mean_test_score\"],\n",
    "    yerr=2 * cv_results_df[\"std_test_score\"],\n",
    "    width=0.8 * np.diff(cv_results_df[\"param_model__max_iter\"], prepend=0),\n",
    ")\n",
    "plt.show()"
   ]
  },
  {
   "cell_type": "markdown",
   "metadata": {
    "id": "fY5-zSqzmK-O",
    "tags": []
   },
   "source": [
    "* **Pour 2 des modèles** (au moins 1 autre que les 2 proposés en baselines) :\n",
    "\n",
    "    * Pour différentes valeurs d'un des hyperparamètres, donnez les `balanced_accuracy` moyennes de la validation croisée sous forme de Boxplots (ou de diagramme à bâtons avec une barre d'erreur) : voir l'exemple présenté dans le graphique ci-dessous. \n",
    "    \n",
    "    * Explicitez succinctement quelles observations en tirer concernant la stabilité des prédictions.\n",
    "\n",
    "![](img/boxplot-cv.png)"
   ]
  },
  {
   "cell_type": "markdown",
   "metadata": {
    "id": "XkeVvpM4mK-P"
   },
   "source": [
    "<span style=\"color:red\">\n",
    "    Répondre ci-dessous\n",
    "</span>"
   ]
  },
  {
   "cell_type": "code",
   "execution_count": 77,
   "metadata": {
    "id": "U1aaohrzmK-Q"
   },
   "outputs": [
    {
     "name": "stdout",
     "output_type": "stream",
     "text": [
      "[0.7  0.7  0.71 0.7  0.69 0.71 0.71 0.7  0.7  0.7 ]\n",
      "\n",
      "balanced_accuracy: 0.70, with std dev: 0.00\n",
      "\n"
     ]
    }
   ],
   "source": [
    "N_COMP = 20\n",
    "MAX_ITER = 100\n",
    "\n",
    "pca = decomposition.PCA(n_components=N_COMP)\n",
    "model = linear_model.LogisticRegression(max_iter=MAX_ITER)\n",
    "\n",
    "pipe = pipeline.Pipeline(steps=[(\"scaler\", scaler), (\"pca\", pca), (\"model\", model)])\n",
    "\n",
    "scores = model_selection.cross_val_score(pipe, x_resampled, y_resampled, cv=CV, scoring=SCORING)\n",
    "\n",
    "with np.printoptions(precision=2):\n",
    "    print(scores)\n",
    "\n",
    "print(f\"\\n{SCORING}: {scores.mean():.2f}, with std dev: {scores.std():.2f}\\n\")"
   ]
  },
  {
   "cell_type": "code",
   "execution_count": 78,
   "metadata": {},
   "outputs": [
    {
     "data": {
      "image/png": "[encoded data removed]",
      "text/plain": [
       "<Figure size 432x288 with 1 Axes>"
      ]
     },
     "metadata": {
      "image/png": {
       "height": 248,
       "width": 372
      },
      "needs_background": "light"
     },
     "output_type": "display_data"
    }
   ],
   "source": [
    "plt.bar(range(len(scores)), scores, yerr=2 * scores.std())\n",
    "plt.grid(axis=\"y\")\n",
    "plt.show()"
   ]
  },
  {
   "cell_type": "markdown",
   "metadata": {
    "id": "dqsyLyC_mK-R"
   },
   "source": [
    "<span style=\"color:red\">\n",
    "    Utiliser des cellules markdown pour ajouter des commentaires\n",
    "</span>"
   ]
  },
  {
   "cell_type": "markdown",
   "metadata": {
    "id": "WgfBwLGEmK-S"
   },
   "source": []
  },
  {
   "cell_type": "markdown",
   "metadata": {
    "id": "jNSHQIGLmK-S",
    "tags": []
   },
   "source": [
    "* **Pour chacun de ces 2 modèles, à partir des données de validation créées précédemment** (`x_valid`, `y_valid`) :\n",
    "\n",
    "    * Mesurez l'aire sous la courbe ROC (AUC) à l'aide de la fonction de Scikit-Learn (`roc_auc_score`) et comparez les modèles avec leur combinaison respective d'hyperparamètres offrant le meilleur résultat."
   ]
  },
  {
   "cell_type": "markdown",
   "metadata": {
    "id": "BWbG1OZLmK-T"
   },
   "source": [
    "<span style=\"color:red\">\n",
    "    Répondre ci-dessous\n",
    "</span>"
   ]
  },
  {
   "cell_type": "code",
   "execution_count": null,
   "metadata": {
    "id": "oIM2cGbKmK-T"
   },
   "outputs": [],
   "source": [
    "# TODO: Confusion Mtx\n",
    "\n",
    "disp = metrics.ConfusionMatrixDisplay.from_predictions(\n",
    "    y_resampled, ys_pred, cmap=plt.cm.Blues\n",
    ")"
   ]
  },
  {
   "cell_type": "code",
   "execution_count": null,
   "metadata": {},
   "outputs": [],
   "source": [
    "disp.confusion_matrix"
   ]
  },
  {
   "cell_type": "markdown",
   "metadata": {
    "id": "o9MWVqc2mK-U"
   },
   "source": [
    "<span style=\"color:red\">\n",
    "    Utiliser des cellules markdown pour ajouter des commentaires\n",
    "</span>"
   ]
  },
  {
   "cell_type": "markdown",
   "metadata": {
    "id": "Dnh58XUDmK-V"
   },
   "source": []
  },
  {
   "cell_type": "markdown",
   "metadata": {
    "id": "D-aWvyOxmK-V",
    "tags": []
   },
   "source": [
    "* **Pour le modèle et sa combinaison d'hyperparamètres offrant le meilleur résultat** :\n",
    "\n",
    "    * Réalisez la matrice de confusion et décrivez-la succinctement."
   ]
  },
  {
   "cell_type": "markdown",
   "metadata": {
    "id": "cY0GXgX5mK-V"
   },
   "source": [
    "<span style=\"color:red\">\n",
    "    Répondre ci-dessous\n",
    "</span>"
   ]
  },
  {
   "cell_type": "code",
   "execution_count": null,
   "metadata": {
    "id": "RS8HteyJmK-W"
   },
   "outputs": [],
   "source": [
    "# TODO: ROC"
   ]
  },
  {
   "cell_type": "markdown",
   "metadata": {
    "id": "4d8jP39MmK-W"
   },
   "source": [
    "<span style=\"color:red\">\n",
    "    Utiliser des cellules markdown pour ajouter des commentaires\n",
    "</span>"
   ]
  },
  {
   "cell_type": "markdown",
   "metadata": {
    "id": "pU4sQHeBmK-X"
   },
   "source": []
  },
  {
   "cell_type": "markdown",
   "metadata": {
    "id": "dLbrtB7smK-Y"
   },
   "source": [
    "### Code : Essayez d'améliorer votre score\n",
    "\n",
    "* Data augmentation (optionnel)\n",
    "\n",
    "Vu le déséquilibre entre les classes à prédire (survive, died), on peut espérer améliorer le score en les rééquilibrant. Une approche typique est la génération de données (voir cours : `part-6-slides.pdf`). Une des méthodes de génération est [SMOTE](https://en.wikipedia.org/wiki/Oversampling_and_undersampling_in_data_analysis#SMOTE) (voir cours théorique), elle est notamment implémentée dans le module `imblearn`.\n",
    "\n",
    "`imblearn` a été développé pour s'interfacer facilement avec `sklearn`.\n",
    "Il propose notamment une version du `pipeline` qui permet l'intégration avec `sklearn`.\n",
    "\n",
    "Ci-dessous voici un exemple de `pipeline` intégrant `imblearn` et `sklearn`."
   ]
  },
  {
   "cell_type": "markdown",
   "metadata": {
    "id": "DcJXUno8mK-Z"
   },
   "source": [
    "<span style=\"color:red\">\n",
    "    Répondre ci-dessous\n",
    "</span>"
   ]
  },
  {
   "cell_type": "code",
   "execution_count": null,
   "metadata": {
    "id": "tylYJCGSmK-Z"
   },
   "outputs": [],
   "source": [
    "# TODO: Data augmentation\n",
    "\n",
    "pipe = imblearn.pipeline.Pipeline(\n",
    "    [\n",
    "        (\"scale\", preprocessing.StandardScaler()),\n",
    "        (\"pca\", decomposition.PCA()),\n",
    "        (\"resample\", imblearn.over_sampling.SMOTE()),\n",
    "        (\"model\", model),\n",
    "    ]\n",
    ")"
   ]
  },
  {
   "cell_type": "markdown",
   "metadata": {
    "id": "hS4q0l12mK-a"
   },
   "source": [
    "### Explication de ce que vous avez réalisé, conclusion et perspectives"
   ]
  },
  {
   "cell_type": "markdown",
   "metadata": {
    "id": "4qGllwnjmK-a"
   },
   "source": [
    "* Commencez par donner votre meilleur résultat obtenu lors de vos soumissions\n",
    "\n",
    "* Expliquez le chemin qui vous y a conduit\n",
    "\n",
    "    * Ce que vous avez essayé :\n",
    "\n",
    "        * Ce qui a fonctionné\n",
    "\n",
    "        * Ce qui n'a pas fonctionné et comment vous l'avez solutionné\n",
    "\n",
    "    * Quelle méthode avez-vous utilisée pour choisir les hyperparamètres ?\n",
    "\n",
    "    * Comparer la durée d'entrainement des principaux modèles utilisés ?\n",
    "\n",
    "* Qu'auriez-vous fait si vous aviez eu plus de temps ?"
   ]
  },
  {
   "cell_type": "markdown",
   "metadata": {
    "id": "IIaLLL4JmK-b"
   },
   "source": [
    "<span style=\"color:red\">\n",
    "    Répondre ci-dessous\n",
    "</span>"
   ]
  },
  {
   "cell_type": "markdown",
   "metadata": {
    "id": "f_AfWIaVmK-c"
   },
   "source": []
  },
  {
   "cell_type": "markdown",
   "metadata": {
    "id": "H3Xp6KfSmK-c"
   },
   "source": [
    "### Question (optionnelle)\n",
    "\n",
    "* Qu'est-ce que le suréchantillonnage ? \n",
    "\n",
    "* En quoi pourrait-il être utile dans ce problème ?"
   ]
  },
  {
   "cell_type": "markdown",
   "metadata": {
    "id": "Jp7rnXzomK-d"
   },
   "source": [
    "<span style=\"color:red\">\n",
    "    Répondre ci-dessous\n",
    "</span>"
   ]
  },
  {
   "cell_type": "markdown",
   "metadata": {
    "id": "qZ58l0IDmK-d"
   },
   "source": []
  },
  {
   "cell_type": "markdown",
   "metadata": {
    "id": "m5iz4MwimK-e"
   },
   "source": [
    "## 7. Enregistrer les prédictions\n",
    "\n",
    "* Utilisez le code suivant pour faire des prédictions et pour les enregistrer sous forme de fichier ZIP\n",
    "* Soumettez ce fichier ZIP sur [le site du challenge](https://competitions.codalab.org/competitions/30715#participate-submit_results)\n",
    "(\"Participate > Submit/View Results > Submit\")\n",
    "* Faites de votre mieux pour être le ***premier sur le leaderboard !***"
   ]
  },
  {
   "cell_type": "markdown",
   "metadata": {
    "id": "WJ5RSQh7mK-e"
   },
   "source": [
    "<span style=\"color:red\">\n",
    "    !! Ne pas oublier de modifier la commande de la prédiction selon les données et modèles choisis !!\n",
    "</span>\n",
    "\n",
    "* Données : `x_test_fact_df`, `x_test_oh_df`\n",
    "\n",
    "* Modèles : `model`, `search` (e.g., pour le `GridSearchCV`)"
   ]
  },
  {
   "cell_type": "code",
   "execution_count": null,
   "metadata": {
    "id": "YvisYQhQmK-f"
   },
   "outputs": [],
   "source": [
    "predictions = model.predict(x_test_oh_df)  # compute predictions\n",
    "# VARS: x_test_df, x_test_fact_df, x_test_oh_df, x_test_1hot_pcs\n",
    "# Models: model, search\n",
    "\n",
    "\n",
    "PRED_PATH.mkdir(parents=True, exist_ok=True)\n",
    "\n",
    "t_stamp = datetime.now().strftime(\"%Y-%m-%dT%H-%M-%S\")\n",
    "submission_fp = PRED_PATH / f\"submission_{t_stamp}.zip\"\n",
    "\n",
    "pred_fname = \"mimic_synthetic_test.csv\"\n",
    "compr_opts = dict(method=\"zip\", archive_name=pred_fname)\n",
    "\n",
    "pd.Series(predictions).to_csv(\n",
    "    submission_fp, compression=compr_opts, index=False, header=False\n",
    ")\n",
    "\n",
    "print(f\"The submission is ready: {submission_fp}\")"
   ]
  },
  {
   "cell_type": "markdown",
   "metadata": {
    "id": "wUEhCXGgmK-f"
   },
   "source": [
    "---"
   ]
  },
  {
   "cell_type": "markdown",
   "metadata": {
    "id": "yCWbWkonmK-g"
   },
   "source": [
    "# Remarque sur le jeu de données\n",
    "\n",
    "Le jeu de données ne contient pas de données médicales réelles. Nous ne sommes pas autorisés à partager ces **données confidentielles** provenant de patient·e·s en soins intensifs. Pour éviter ce problème, les données ont été remplacées par des **données artificielles**.\n",
    "\n",
    "Afin d'avoir des données crédibles, elles ont été générées à l'aide d'un réseau adverse génératif (**GAN**) Wasserstein.\n",
    "\n",
    "Pour plus d'informations, voici une référence : <br />\n",
    "[Privacy Preserving Synthetic Health Data](https://hal.inria.fr/hal-02160496/document) <br />\n",
    "Andrew Yale, Saloni Dash, Ritik Dutta, Isabelle Guyon, Adrien Pavao, Kristin Bennett <br />"
   ]
  },
  {
   "cell_type": "markdown",
   "metadata": {
    "id": "N1-QBl9BmK-h"
   },
   "source": [
    "---"
   ]
  }
 ],
 "metadata": {
  "colab": {
   "name": "Projet (2).ipynb",
   "provenance": []
  },
  "kernelspec": {
   "display_name": "Python 3",
   "language": "python",
   "name": "python3"
  },
  "language_info": {
   "codemirror_mode": {
    "name": "ipython",
    "version": 3
   },
   "file_extension": ".py",
   "mimetype": "text/x-python",
   "name": "python",
   "nbconvert_exporter": "python",
   "pygments_lexer": "ipython3",
   "version": "3.8.3"
  }
 },
 "nbformat": 4,
 "nbformat_minor": 1
}
